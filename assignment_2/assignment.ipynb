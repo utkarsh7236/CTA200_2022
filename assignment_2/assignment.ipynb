{
 "cells": [
  {
   "cell_type": "code",
   "execution_count": 1,
   "metadata": {},
   "outputs": [],
   "source": [
    "import numpy as np\n",
    "from sympy import *"
   ]
  },
  {
   "cell_type": "markdown",
   "metadata": {},
   "source": [
    "## Part 1"
   ]
  },
  {
   "cell_type": "code",
   "execution_count": 6,
   "metadata": {},
   "outputs": [
    {
     "data": {
      "text/latex": [
       "$\\displaystyle x^{3} - x^{2} - 1$"
      ],
      "text/plain": [
       "x**3 - x**2 - 1"
      ]
     },
     "metadata": {},
     "output_type": "display_data"
    },
    {
     "data": {
      "text/latex": [
       "$\\displaystyle 3 x^{2} - 2 x$"
      ],
      "text/plain": [
       "3*x**2 - 2*x"
      ]
     },
     "metadata": {},
     "output_type": "display_data"
    }
   ],
   "source": [
    "x = symbols(\"x\")\n",
    "f = x**3 - x**2 - 1\n",
    "df = fx.diff(x)\n",
    "display(fx, dfx)"
   ]
  },
  {
   "cell_type": "code",
   "execution_count": 11,
   "metadata": {},
   "outputs": [],
   "source": [
    "fx = lambdify(x, f)\n",
    "dfx = lambdify(x, df)"
   ]
  },
  {
   "cell_type": "markdown",
   "metadata": {},
   "source": [
    "## Part 2"
   ]
  },
  {
   "cell_type": "markdown",
   "metadata": {},
   "source": [
    "NOTE: I assume in the problem set you want us to find the absolute root. $|f(x_n)|< \\epsilon$ and not the positive root $f(x_n)< \\epsilon$ "
   ]
  },
  {
   "cell_type": "code",
   "execution_count": 28,
   "metadata": {},
   "outputs": [],
   "source": [
    "def newton(func, dfunc, x0, epsilon=1e-6, max_iter = 30):\n",
    "    \"\"\" Returns root xn where func(xn) == 0\n",
    "    \"\"\"\n",
    "    # base case \n",
    "    i = 0\n",
    "    x = x0\n",
    "    while i <= max_iter:\n",
    "        if abs(func(x)) < epsilon:\n",
    "            print(f\"Found root in {i} iterations\")\n",
    "            return x\n",
    "        else:\n",
    "            x -= func(x)/dfunc(x)\n",
    "        i += 1\n",
    "    \n",
    "    print(\"Iteration Failed\")\n",
    "    return None"
   ]
  },
  {
   "cell_type": "markdown",
   "metadata": {},
   "source": [
    "## Part 3"
   ]
  },
  {
   "cell_type": "code",
   "execution_count": 49,
   "metadata": {},
   "outputs": [
    {
     "name": "stdout",
     "output_type": "stream",
     "text": [
      "Found root in 9 iterations\n",
      "1.465571232470246\n",
      "Found root in 26 iterations\n",
      "1.4655712376690906\n"
     ]
    }
   ],
   "source": [
    "print(newton(fx, dfx, 10))\n",
    "print(newton(fx, dfx, -10))"
   ]
  },
  {
   "cell_type": "code",
   "execution_count": 48,
   "metadata": {},
   "outputs": [
    {
     "name": "stdout",
     "output_type": "stream",
     "text": [
      "Found root in 9 iterations\n",
      "1.465571232470246\n",
      "Found root in 27 iterations\n",
      "1.465571231876768\n"
     ]
    }
   ],
   "source": [
    "print(newton(fx, dfx, 10, epsilon = 1e-8, max_iter = 100))\n",
    "print(newton(fx, dfx, -10, epsilon = 1e-8, max_iter = 100))"
   ]
  },
  {
   "cell_type": "markdown",
   "metadata": {},
   "source": [
    "Convergence still occurs but takes approximately the same number of iterations, perhaps slightly more. "
   ]
  }
 ],
 "metadata": {
  "kernelspec": {
   "display_name": "Python 3",
   "language": "python",
   "name": "python3"
  },
  "language_info": {
   "codemirror_mode": {
    "name": "ipython",
    "version": 3
   },
   "file_extension": ".py",
   "mimetype": "text/x-python",
   "name": "python",
   "nbconvert_exporter": "python",
   "pygments_lexer": "ipython3",
   "version": "3.8.6"
  }
 },
 "nbformat": 4,
 "nbformat_minor": 4
}
