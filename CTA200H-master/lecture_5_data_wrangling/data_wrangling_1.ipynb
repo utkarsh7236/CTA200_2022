{
 "cells": [
  {
   "cell_type": "markdown",
   "metadata": {},
   "source": [
    "# Data Wrangling: Input/Output\n",
    "\n",
    "In this lecture/notebook, we'll look at the following:\n",
    "* Different data file types used in Astronomy/Astrophysics\n",
    "* Ways of opening data files and accessing the data within Python\n",
    "* Ways of saving data from a Python session to a file\n",
    "* Best Practices for dealing with files\n",
    "\n",
    "For this lesson, we're going to be using the following packages:\n",
    "* `numpy`\n",
    "* `pandas`\n",
    "* `astropy`"
   ]
  },
  {
   "cell_type": "code",
   "execution_count": 1,
   "metadata": {},
   "outputs": [],
   "source": [
    "import numpy as np\n",
    "import pandas as pd\n",
    "from astropy import table\n"
   ]
  },
  {
   "cell_type": "markdown",
   "metadata": {},
   "source": [
    "## Data Types we deal with in Astronomy\n",
    "\n",
    "In astronomy (and in much coding), there's a variety of different file formats that you'll deal with data in:\n",
    "* Plain, Unstructured Text \n",
    "* Structured Plain Text (most commonly, Comma-Separated Values or `csv`)\n",
    "* Numpy files (`.npy` or `.npz`)\n",
    "* FITS files<sup>a</sup>\n",
    "* Structured Markdown (such as HTML)\n",
    "\n",
    "---\n",
    "1: We won't go into FITS files in detail. What you _should_ know about them in a nutshell: they contain groups of data, most often images (which are just 2D or 3D arrays of numbers, usually floating points), or tables of data. The tables are relatively easy to read-in with `astropy` "
   ]
  },
  {
   "cell_type": "markdown",
   "metadata": {},
   "source": [
    "## The most basic of file writing: a plain unstructured text file\n",
    "* Opening the file\n",
    "* Reading all of the content within the file\n",
    "* The file as a string\n",
    "* Writing out a file\n",
    "* Closing a file"
   ]
  },
  {
   "cell_type": "markdown",
   "metadata": {},
   "source": [
    "#### Reading a File"
   ]
  },
  {
   "cell_type": "code",
   "execution_count": 2,
   "metadata": {},
   "outputs": [
    {
     "data": {
      "text/plain": [
       "_io.TextIOWrapper"
      ]
     },
     "execution_count": 2,
     "metadata": {},
     "output_type": "execute_result"
    }
   ],
   "source": [
    "input_file = open(\"input.txt\", 'r')\n",
    "\n",
    "type(input_file)"
   ]
  },
  {
   "cell_type": "code",
   "execution_count": 3,
   "metadata": {},
   "outputs": [
    {
     "data": {
      "text/plain": [
       "'This is a text file.\\nThis is the second line. '"
      ]
     },
     "execution_count": 3,
     "metadata": {},
     "output_type": "execute_result"
    }
   ],
   "source": [
    "input_string = input_file.read()\n",
    "input_string"
   ]
  },
  {
   "cell_type": "markdown",
   "metadata": {},
   "source": [
    "<div class=\"alert alert-block alert-info\"> \n",
    "    <b>Tip:</b> One of the most useful things you should be doing regularly in python is checking the type of your variables. Many of your problems will be solved by knowing the variable type.\n",
    "</div>"
   ]
  },
  {
   "cell_type": "code",
   "execution_count": 4,
   "metadata": {
    "scrolled": true
   },
   "outputs": [
    {
     "data": {
      "text/plain": [
       "str"
      ]
     },
     "execution_count": 4,
     "metadata": {},
     "output_type": "execute_result"
    }
   ],
   "source": [
    "type(input_string)"
   ]
  },
  {
   "cell_type": "code",
   "execution_count": 5,
   "metadata": {},
   "outputs": [],
   "source": [
    "input_file.close()"
   ]
  },
  {
   "cell_type": "markdown",
   "metadata": {},
   "source": [
    "Instead of loading the file as one large string, you can read it line by line:"
   ]
  },
  {
   "cell_type": "code",
   "execution_count": 6,
   "metadata": {},
   "outputs": [
    {
     "name": "stdout",
     "output_type": "stream",
     "text": [
      "This is a text file.\n",
      "\n",
      "This is the next line:\n",
      "This is the second line. \n"
     ]
    }
   ],
   "source": [
    "input_file = open(\"input.txt\", 'r')\n",
    "\n",
    "print(input_file.readline())\n",
    "\n",
    "print(\"This is the next line:\")\n",
    "\n",
    "print(input_file.readline())\n",
    "\n",
    "input_file.close()"
   ]
  },
  {
   "cell_type": "markdown",
   "metadata": {},
   "source": [
    "Or, if you want to loop over the whole file, you can use the file object as an _iterable_ (i.e., throw it in a `for` loop)."
   ]
  },
  {
   "cell_type": "code",
   "execution_count": 7,
   "metadata": {},
   "outputs": [
    {
     "name": "stdout",
     "output_type": "stream",
     "text": [
      "This is line 0: This is a text file.\n",
      "\n",
      "This is line 1: This is the second line. \n"
     ]
    }
   ],
   "source": [
    "input_file = open(\"input.txt\", 'r')\n",
    "\n",
    "for i, line in enumerate(input_file):\n",
    "    print(\"This is line %i: %s\" % (i, line))\n",
    "    \n",
    "input_file.close()"
   ]
  },
  {
   "cell_type": "markdown",
   "metadata": {},
   "source": [
    "**Question**: What is the enumerate function doing here?"
   ]
  },
  {
   "cell_type": "markdown",
   "metadata": {},
   "source": [
    "#### Writing a File"
   ]
  },
  {
   "cell_type": "code",
   "execution_count": 8,
   "metadata": {},
   "outputs": [],
   "source": [
    "output_file = open(\"output.txt\", 'w')\n",
    "\n",
    "output_file.write(\"This is my output file\")\n",
    "output_file.write(\"\\nThis is its second line\")\n",
    "\n",
    "output_file.close()"
   ]
  },
  {
   "cell_type": "code",
   "execution_count": 9,
   "metadata": {},
   "outputs": [],
   "source": [
    "# Wrong Way:\n",
    "\n",
    "output_file = open(\"output.txt\", 'w')\n",
    "\n",
    "output_file.write(\"This will overwrite the file\")\n",
    "\n",
    "output_file.close()\n"
   ]
  },
  {
   "cell_type": "code",
   "execution_count": 10,
   "metadata": {},
   "outputs": [],
   "source": [
    "# The Right Way:\n",
    "\n",
    "output_file = open(\"output.txt\", 'a')\n",
    "\n",
    "output_file.write(\"\\nThis will append to the file\")\n",
    "\n",
    "output_file.close()\n"
   ]
  },
  {
   "cell_type": "markdown",
   "metadata": {},
   "source": [
    "### Exercise:\n",
    "\n",
    "1. Write plain text file that contains a 20-30 word bio of yourself. \n",
    "2. Read in the plain text file, and using string functions, create a Python List of strings containing each individual word from your bio. \n",
    "3. Determine the total number of words in your bio. Also, determine the number of _unique_ words in your bio."
   ]
  },
  {
   "cell_type": "markdown",
   "metadata": {},
   "source": [
    "## Reading and Writing to NumPy Arrays\n",
    "* Remembering the basics of Numpy Arrays (dimensionality, propogations)\n",
    "* Loading in from a text file (tab-separated, comma-separated)\n",
    "* Saving and Loading as Numpy Files (`.npy`, `.npz`)"
   ]
  },
  {
   "cell_type": "markdown",
   "metadata": {},
   "source": [
    "Let's make the most basic of Numpy arrays."
   ]
  },
  {
   "cell_type": "code",
   "execution_count": 11,
   "metadata": {},
   "outputs": [],
   "source": [
    "# The Simplest of Arrays\n",
    "new_array = np.array([])"
   ]
  },
  {
   "cell_type": "markdown",
   "metadata": {},
   "source": [
    "Every numpy array has a certain number of properties that you should always check. They are the number of dimension (`ndim`), number of total elements (`size`), the length of each dimension (`shape`), and the variable type (`dtype`)"
   ]
  },
  {
   "cell_type": "code",
   "execution_count": 12,
   "metadata": {},
   "outputs": [
    {
     "name": "stdout",
     "output_type": "stream",
     "text": [
      "Number of Dimensions: 1\n",
      "Number of Elements: 0\n",
      "Shape of Array: (0,)\n",
      "Data Type: float64\n"
     ]
    }
   ],
   "source": [
    "print(\"Number of Dimensions: %i\" % new_array.ndim)\n",
    "print(\"Number of Elements: %i\" % new_array.size)\n",
    "print(\"Shape of Array: %s\" % str(new_array.shape))\n",
    "print(\"Data Type: %s\" % new_array.dtype)"
   ]
  },
  {
   "cell_type": "code",
   "execution_count": 13,
   "metadata": {},
   "outputs": [
    {
     "name": "stdout",
     "output_type": "stream",
     "text": [
      "Number of Dimensions: 1\n",
      "Number of Elements: 20\n",
      "Shape of Array: (20,)\n",
      "Data Type: float64\n"
     ]
    }
   ],
   "source": [
    "second_array = np.linspace(0, 5, 20)\n",
    "\n",
    "print(\"Number of Dimensions: %i\" % second_array.ndim)\n",
    "print(\"Number of Elements: %i\" % second_array.size)\n",
    "print(\"Shape of Array: %s\" % str(second_array.shape))\n",
    "print(\"Data Type: %s\" % second_array.dtype)"
   ]
  },
  {
   "cell_type": "code",
   "execution_count": 14,
   "metadata": {},
   "outputs": [
    {
     "name": "stdout",
     "output_type": "stream",
     "text": [
      "Number of Dimensions: 2\n",
      "Number of Elements: 50\n",
      "Shape of Array: (10, 5)\n",
      "Data Type: float64\n"
     ]
    }
   ],
   "source": [
    "third_array = np.ones((10, 5))\n",
    "\n",
    "print(\"Number of Dimensions: %i\" % third_array.ndim)\n",
    "print(\"Number of Elements: %i\" % third_array.size)\n",
    "print(\"Shape of Array: %s\" % str(third_array.shape))\n",
    "print(\"Data Type: %s\" % third_array.dtype)"
   ]
  },
  {
   "cell_type": "markdown",
   "metadata": {},
   "source": [
    "When doing a mathematical operation on numpy arrays, it will try to perform the operation element-wise. However, if the shapes of the elements work out, it will perform it across rows or columns. For instance:"
   ]
  },
  {
   "cell_type": "code",
   "execution_count": 15,
   "metadata": {
    "scrolled": true
   },
   "outputs": [
    {
     "data": {
      "text/plain": [
       "array([[1., 2., 3., 4., 5.],\n",
       "       [1., 2., 3., 4., 5.],\n",
       "       [1., 2., 3., 4., 5.],\n",
       "       [1., 2., 3., 4., 5.],\n",
       "       [1., 2., 3., 4., 5.],\n",
       "       [1., 2., 3., 4., 5.],\n",
       "       [1., 2., 3., 4., 5.],\n",
       "       [1., 2., 3., 4., 5.],\n",
       "       [1., 2., 3., 4., 5.],\n",
       "       [1., 2., 3., 4., 5.]])"
      ]
     },
     "execution_count": 15,
     "metadata": {},
     "output_type": "execute_result"
    }
   ],
   "source": [
    "np.array([1, 2, 3, 4, 5]) * third_array"
   ]
  },
  {
   "cell_type": "markdown",
   "metadata": {},
   "source": [
    "However, you'll need to make sure the axes line up. Otherwise, it'll throw an error:"
   ]
  },
  {
   "cell_type": "code",
   "execution_count": 16,
   "metadata": {},
   "outputs": [],
   "source": [
    "# This won't work\n",
    "# np.array([1, 2, 3, 4, 5, 6, 7, 8, 9, 10]) * third_array"
   ]
  },
  {
   "cell_type": "markdown",
   "metadata": {},
   "source": [
    "Here, it's trying to line up the array with size 10 with the second dimension of `third_array`, which is of length 5. Hence they don't work. However, you can `reshape` the array here to make it a 2-D array where the second dimension is just length 1:"
   ]
  },
  {
   "cell_type": "code",
   "execution_count": 17,
   "metadata": {
    "scrolled": false
   },
   "outputs": [
    {
     "name": "stdout",
     "output_type": "stream",
     "text": [
      "(10, 1)\n"
     ]
    },
    {
     "data": {
      "text/plain": [
       "array([[ 1.,  1.,  1.,  1.,  1.],\n",
       "       [ 2.,  2.,  2.,  2.,  2.],\n",
       "       [ 3.,  3.,  3.,  3.,  3.],\n",
       "       [ 4.,  4.,  4.,  4.,  4.],\n",
       "       [ 5.,  5.,  5.,  5.,  5.],\n",
       "       [ 6.,  6.,  6.,  6.,  6.],\n",
       "       [ 7.,  7.,  7.,  7.,  7.],\n",
       "       [ 8.,  8.,  8.,  8.,  8.],\n",
       "       [ 9.,  9.,  9.,  9.,  9.],\n",
       "       [10., 10., 10., 10., 10.]])"
      ]
     },
     "execution_count": 17,
     "metadata": {},
     "output_type": "execute_result"
    }
   ],
   "source": [
    "# Reshaping the array so that it's two dimensions, with length 1 on the second dimension\n",
    "\n",
    "reshaped_array = np.array([1, 2, 3, 4, 5, 6, 7, 8, 9, 10]).reshape(-1, 1)\n",
    "print(reshaped_array.shape)\n",
    "\n",
    "reshaped_array * third_array"
   ]
  },
  {
   "cell_type": "markdown",
   "metadata": {},
   "source": [
    "<div class=\"alert alert-block alert-info\"> \n",
    "    <b>Tip:</b> In reshapes, you can use the number \"-1\" to indicate that you want Python to automatically calculate how long this particular axis should be. Note, you can only do this for one axis at a time in a reshape.\n",
    "</div>"
   ]
  },
  {
   "cell_type": "markdown",
   "metadata": {},
   "source": [
    "Why don't we try to read in a structured plain text file? If everything is perfect, you can use the `loadtxt` function:"
   ]
  },
  {
   "cell_type": "code",
   "execution_count": 18,
   "metadata": {},
   "outputs": [],
   "source": [
    "# Reading in simple file: \n",
    "\n",
    "lots_of_numbers = np.loadtxt(\"lots_of_numbers.txt\")"
   ]
  },
  {
   "cell_type": "code",
   "execution_count": 19,
   "metadata": {},
   "outputs": [
    {
     "data": {
      "text/plain": [
       "array([[1.90569335e+02, 9.47149611e+00, 1.59619857e+01, 4.62964977e+00,\n",
       "        1.35986044e-01],\n",
       "       [1.01857222e+00, 2.25853646e+00, 1.05656079e-02, 7.25714021e+00,\n",
       "        4.28765708e-01],\n",
       "       [1.93766888e+02, 1.01053529e-01, 7.38961484e+00, 3.53514044e+00,\n",
       "        1.13244028e+01],\n",
       "       [3.19837816e-01, 4.77472155e+00, 1.10389612e+00, 1.03071746e-02,\n",
       "        1.99797811e+00],\n",
       "       [1.18570137e+00, 7.91022325e+00, 3.28196438e+02, 1.20183459e+03,\n",
       "        1.96986195e+00],\n",
       "       [2.51629522e+00, 7.91864980e+00, 1.32240164e-01, 8.27197622e-01,\n",
       "        9.03537411e-02],\n",
       "       [5.97876785e-01, 3.19062419e+00, 9.06855758e-01, 1.16700563e+00,\n",
       "        1.83380709e-01],\n",
       "       [1.36961761e+00, 9.98878181e-02, 4.14687684e+00, 5.06370425e-02,\n",
       "        1.00601603e+00],\n",
       "       [2.47122926e-01, 1.02418824e-01, 1.37420097e+01, 7.90602207e-01,\n",
       "        9.32447428e-01],\n",
       "       [2.01685212e+01, 7.56107243e-01, 9.24914098e+00, 4.01678744e-02,\n",
       "        6.65702107e-01]])"
      ]
     },
     "execution_count": 19,
     "metadata": {},
     "output_type": "execute_result"
    }
   ],
   "source": [
    "lots_of_numbers"
   ]
  },
  {
   "cell_type": "markdown",
   "metadata": {},
   "source": [
    "However, for more complicated files, this doesn't work. Take a look at the file \"more_numbers.txt\" and try to determine why this doesn't work."
   ]
  },
  {
   "cell_type": "code",
   "execution_count": 20,
   "metadata": {},
   "outputs": [],
   "source": [
    "# Reading in more complicated file:\n",
    "\n",
    "# This won't work\n",
    "# more_numbers = np.loadtxt(\"more_numbers.txt\")"
   ]
  },
  {
   "cell_type": "markdown",
   "metadata": {},
   "source": [
    "But you can handle these kinds of files with the `genfromtxt`function:"
   ]
  },
  {
   "cell_type": "code",
   "execution_count": 21,
   "metadata": {},
   "outputs": [],
   "source": [
    "more_numbers = np.genfromtxt(\"more_numbers.txt\", missing_values=\"null\")"
   ]
  },
  {
   "cell_type": "code",
   "execution_count": 22,
   "metadata": {
    "scrolled": true
   },
   "outputs": [
    {
     "data": {
      "text/plain": [
       "array([[ 0.37067893, -1.06044117,  0.16361672,         nan,  0.16649295,\n",
       "         0.24543086],\n",
       "       [ 0.3544887 ,  0.45404438,  0.44970601,  0.04827386,  0.00842626,\n",
       "                nan],\n",
       "       [ 0.24897699,  0.2161913 ,  0.28365314,  0.38976031,  0.13624587,\n",
       "        -0.01540299],\n",
       "       [ 0.09510735,  0.38574107,  0.20046021,  0.38936939,  0.08201919,\n",
       "         0.33455551],\n",
       "       [-0.02783419, -1.22403322, -0.1508819 ,  0.14708989, -0.55814362,\n",
       "        -0.78119492],\n",
       "       [-0.6655637 ,  0.14653278,  0.3121609 ,  0.09197779,  0.19227771,\n",
       "         0.26495639],\n",
       "       [-0.2911269 ,  0.16677984,         nan,  0.01819714,  0.00978262,\n",
       "         0.25670441],\n",
       "       [ 0.05109978,  0.16713388,  0.14590421,  0.12382186,  0.349056  ,\n",
       "         0.0016948 ],\n",
       "       [-0.59415446, -1.41491989,  0.23498966,  0.31919236,  0.27221384,\n",
       "         0.34276645],\n",
       "       [ 0.43051035,  0.3427899 , -0.89609572,  0.32256398,  0.28676795,\n",
       "         0.41325355]])"
      ]
     },
     "execution_count": 22,
     "metadata": {},
     "output_type": "execute_result"
    }
   ],
   "source": [
    "more_numbers"
   ]
  },
  {
   "cell_type": "markdown",
   "metadata": {},
   "source": [
    "However, Numpy Arrays have their limits. Generally, they need to be rectangular (or hyper-rectangular), and all of the same data type. So a file this will be a pain to try to load in:"
   ]
  },
  {
   "cell_type": "code",
   "execution_count": 23,
   "metadata": {},
   "outputs": [],
   "source": [
    "# Missing Values\n",
    "\n",
    "# Why doesn't this work?\n",
    "# new_table = np.genfromtxt(\"more_numbers_missing_values.txt\", missing_values=\"null\")"
   ]
  },
  {
   "cell_type": "markdown",
   "metadata": {},
   "source": [
    "Sometimes, you don't need a human-readable file -- in these cases, you can save a numpy array as an `npy` file. For these files, it's one array per file, but they're easily saved and loaded:"
   ]
  },
  {
   "cell_type": "code",
   "execution_count": 24,
   "metadata": {},
   "outputs": [],
   "source": [
    "# Npy Files\n",
    "\n",
    "x1 = np.array([2.2, 3.4, 2.1, 3.5, 9.3])\n",
    "np.save(\"x1.npy\", x1)"
   ]
  },
  {
   "cell_type": "code",
   "execution_count": 25,
   "metadata": {},
   "outputs": [
    {
     "data": {
      "text/plain": [
       "array([2.2, 3.4, 2.1, 3.5, 9.3])"
      ]
     },
     "execution_count": 25,
     "metadata": {},
     "output_type": "execute_result"
    }
   ],
   "source": [
    "new_x1 = np.load(\"x1.npy\")\n",
    "new_x1"
   ]
  },
  {
   "cell_type": "markdown",
   "metadata": {},
   "source": [
    "If you want to save more than one array, you can use a Numpy Zip file (or `npz`), which treats all the variable as dictionary-like elements when you load them in:"
   ]
  },
  {
   "cell_type": "code",
   "execution_count": 26,
   "metadata": {},
   "outputs": [],
   "source": [
    "# Npz Files\n",
    "x2 = np.array([12.3, 21, 32, np.nan])\n",
    "\n",
    "np.savez(\"another_variable.npz\", x1=x1, x2=x2)"
   ]
  },
  {
   "cell_type": "code",
   "execution_count": 27,
   "metadata": {},
   "outputs": [
    {
     "name": "stdout",
     "output_type": "stream",
     "text": [
      "['x1', 'x2']\n",
      "[12.3 21.  32.   nan]\n"
     ]
    }
   ],
   "source": [
    "more_variables = np.load(\"another_variable.npz\")\n",
    "\n",
    "print(list(more_variables.keys()))\n",
    "\n",
    "print(x2)"
   ]
  },
  {
   "cell_type": "markdown",
   "metadata": {},
   "source": [
    "<div class=\"alert alert-block alert-danger\">\n",
    "<b>Warning:</b> Numpy files, while easy to use, are not great for long-term storage or distribution. A file written on one computer or a specific version or Numpy/Python is not guaranteed to work on another. These are best used as intermediate saves for data that you intend to open on the same computer, relatively soon. \n",
    "</div>"
   ]
  },
  {
   "cell_type": "markdown",
   "metadata": {},
   "source": [
    "### Exercise:\n",
    "\n",
    "1. Create a two-dimensional and three-dimensional numpy arrays (containing random numbers), and multiply them to form a new array, and save them all as an npz file.  \n"
   ]
  },
  {
   "cell_type": "markdown",
   "metadata": {},
   "source": [
    "## Astropy Tables\n",
    "* A table versus an array\n",
    "* Columns and Rows\n",
    "* Reading in various formats\n",
    "* Saving out various formats"
   ]
  },
  {
   "cell_type": "markdown",
   "metadata": {},
   "source": [
    "Numpy Arrays have certain limitations, for instance:\n",
    "* They need to be all the same data type\n",
    "* They need to be rectangular/hyper rectangular (i.e., missing values are hard to deal with)\n",
    "* They are inherently multi-dimensional\n",
    "\n",
    "Often times, what you want to deal with is a certain number of objects that have a bunch of different properties. For this, what you'll want to use is a **Table**. Let's create an astropy style table:"
   ]
  },
  {
   "cell_type": "code",
   "execution_count": 28,
   "metadata": {},
   "outputs": [],
   "source": [
    "new_table = table.Table()"
   ]
  },
  {
   "cell_type": "markdown",
   "metadata": {},
   "source": [
    "The above table starts empty. Tables consist of **columns** which are each discrete property of the objects you're describing, and **rows** which are each discrete object. Columns are going to be dictionary-like (i.e., they use keys, and don't have an intrinsic order), and Rows are array-like (i.e., they use indicies and have an explicit order). \n",
    "\n",
    "Let's make a bunch of columns:"
   ]
  },
  {
   "cell_type": "code",
   "execution_count": 29,
   "metadata": {},
   "outputs": [],
   "source": [
    "new_table['name'] = [\"alpha\", \"beta\", \"gamma\"] \n",
    "new_table['mass'] = [2.1, 2.3, 4.2]\n",
    "new_table['temp'] = [6000, 2323, 233]"
   ]
  },
  {
   "cell_type": "code",
   "execution_count": 30,
   "metadata": {},
   "outputs": [
    {
     "data": {
      "text/html": [
       "<i>Table length=3</i>\n",
       "<table id=\"table140406491630176\" class=\"table-striped table-bordered table-condensed\">\n",
       "<thead><tr><th>name</th><th>mass</th><th>temp</th></tr></thead>\n",
       "<thead><tr><th>str5</th><th>float64</th><th>int64</th></tr></thead>\n",
       "<tr><td>alpha</td><td>2.1</td><td>6000</td></tr>\n",
       "<tr><td>beta</td><td>2.3</td><td>2323</td></tr>\n",
       "<tr><td>gamma</td><td>4.2</td><td>233</td></tr>\n",
       "</table>"
      ],
      "text/plain": [
       "<Table length=3>\n",
       " name   mass   temp\n",
       " str5 float64 int64\n",
       "----- ------- -----\n",
       "alpha     2.1  6000\n",
       " beta     2.3  2323\n",
       "gamma     4.2   233"
      ]
     },
     "execution_count": 30,
     "metadata": {},
     "output_type": "execute_result"
    }
   ],
   "source": [
    "new_table"
   ]
  },
  {
   "cell_type": "markdown",
   "metadata": {},
   "source": [
    "One of the nice things about tables is that they're easy to look at and diagnose. Notice, in this table, we're told the data type of each column -- and each one is different. Let's add another object:"
   ]
  },
  {
   "cell_type": "code",
   "execution_count": 31,
   "metadata": {},
   "outputs": [],
   "source": [
    "new_table.add_row((\"delta\", 6.3, 10002))"
   ]
  },
  {
   "cell_type": "code",
   "execution_count": 32,
   "metadata": {
    "scrolled": true
   },
   "outputs": [
    {
     "data": {
      "text/html": [
       "<i>Table length=4</i>\n",
       "<table id=\"table140406491630176\" class=\"table-striped table-bordered table-condensed\">\n",
       "<thead><tr><th>name</th><th>mass</th><th>temp</th></tr></thead>\n",
       "<thead><tr><th>str5</th><th>float64</th><th>int64</th></tr></thead>\n",
       "<tr><td>alpha</td><td>2.1</td><td>6000</td></tr>\n",
       "<tr><td>beta</td><td>2.3</td><td>2323</td></tr>\n",
       "<tr><td>gamma</td><td>4.2</td><td>233</td></tr>\n",
       "<tr><td>delta</td><td>6.3</td><td>10002</td></tr>\n",
       "</table>"
      ],
      "text/plain": [
       "<Table length=4>\n",
       " name   mass   temp\n",
       " str5 float64 int64\n",
       "----- ------- -----\n",
       "alpha     2.1  6000\n",
       " beta     2.3  2323\n",
       "gamma     4.2   233\n",
       "delta     6.3 10002"
      ]
     },
     "execution_count": 32,
     "metadata": {},
     "output_type": "execute_result"
    }
   ],
   "source": [
    "new_table"
   ]
  },
  {
   "cell_type": "markdown",
   "metadata": {},
   "source": [
    "Let's say for these objects, I only care about the `temp` column, I can grab just that:"
   ]
  },
  {
   "cell_type": "code",
   "execution_count": 33,
   "metadata": {
    "scrolled": true
   },
   "outputs": [
    {
     "data": {
      "text/html": [
       "&lt;Column name=&apos;temp&apos; dtype=&apos;int64&apos; length=4&gt;\n",
       "<table>\n",
       "<tr><td>6000</td></tr>\n",
       "<tr><td>2323</td></tr>\n",
       "<tr><td>233</td></tr>\n",
       "<tr><td>10002</td></tr>\n",
       "</table>"
      ],
      "text/plain": [
       "<Column name='temp' dtype='int64' length=4>\n",
       " 6000\n",
       " 2323\n",
       "  233\n",
       "10002"
      ]
     },
     "execution_count": 33,
     "metadata": {},
     "output_type": "execute_result"
    }
   ],
   "source": [
    "new_table[\"temp\"]"
   ]
  },
  {
   "cell_type": "markdown",
   "metadata": {},
   "source": [
    "Or maybe, I care about both the `mass` and `temp`:"
   ]
  },
  {
   "cell_type": "code",
   "execution_count": 34,
   "metadata": {
    "scrolled": true
   },
   "outputs": [
    {
     "data": {
      "text/html": [
       "<i>Table length=4</i>\n",
       "<table id=\"table140406491566192\" class=\"table-striped table-bordered table-condensed\">\n",
       "<thead><tr><th>mass</th><th>temp</th></tr></thead>\n",
       "<thead><tr><th>float64</th><th>int64</th></tr></thead>\n",
       "<tr><td>2.1</td><td>6000</td></tr>\n",
       "<tr><td>2.3</td><td>2323</td></tr>\n",
       "<tr><td>4.2</td><td>233</td></tr>\n",
       "<tr><td>6.3</td><td>10002</td></tr>\n",
       "</table>"
      ],
      "text/plain": [
       "<Table length=4>\n",
       "  mass   temp\n",
       "float64 int64\n",
       "------- -----\n",
       "    2.1  6000\n",
       "    2.3  2323\n",
       "    4.2   233\n",
       "    6.3 10002"
      ]
     },
     "execution_count": 34,
     "metadata": {},
     "output_type": "execute_result"
    }
   ],
   "source": [
    "new_table[[\"mass\", \"temp\"]]"
   ]
  },
  {
   "cell_type": "markdown",
   "metadata": {},
   "source": [
    "And I can easily just grab the third row (remember, 0 indexing in python):"
   ]
  },
  {
   "cell_type": "code",
   "execution_count": 35,
   "metadata": {
    "scrolled": true
   },
   "outputs": [
    {
     "data": {
      "text/html": [
       "<i>Row index=2</i>\n",
       "<table id=\"table140406491630176\">\n",
       "<thead><tr><th>name</th><th>mass</th><th>temp</th></tr></thead>\n",
       "<thead><tr><th>str5</th><th>float64</th><th>int64</th></tr></thead>\n",
       "<tr><td>gamma</td><td>4.2</td><td>233</td></tr>\n",
       "</table>"
      ],
      "text/plain": [
       "<Row index=2>\n",
       " name   mass   temp\n",
       " str5 float64 int64\n",
       "----- ------- -----\n",
       "gamma     4.2   233"
      ]
     },
     "execution_count": 35,
     "metadata": {},
     "output_type": "execute_result"
    }
   ],
   "source": [
    "new_table[2]"
   ]
  },
  {
   "cell_type": "markdown",
   "metadata": {},
   "source": [
    "One of the great things that you can do with Astropy tables is that you can write them out to a bunch of different formats easily:"
   ]
  },
  {
   "cell_type": "code",
   "execution_count": 36,
   "metadata": {
    "scrolled": true
   },
   "outputs": [],
   "source": [
    "# Saving as plain text\n",
    "\n",
    "new_table.write(\"my_astropy_table.csv\", format=\"ascii.csv\")\n",
    "\n",
    "new_table.write(\"my_fixedwidth_table.txt\", format=\"ascii.fixed_width\")\n",
    "\n",
    "new_table.write(\"my_latex_table.tex\", format=\"ascii.latex\")"
   ]
  },
  {
   "cell_type": "markdown",
   "metadata": {},
   "source": [
    "You can see all of the formats that you can read and write to here: [Formats that Astropy Tables can Read and Write](https://docs.astropy.org/en/stable/io/unified.html#built-in-readers-writers)\n",
    "\n",
    "For instance, here's an example of an [IPAC](https://irsa.ipac.caltech.edu/frontpage/) table, which comes from the NASA/IPAC Infrared Science Archive, that contains lots of data from different astronomical surveys. "
   ]
  },
  {
   "cell_type": "code",
   "execution_count": 37,
   "metadata": {},
   "outputs": [],
   "source": [
    "# Opening an IPAC table\n",
    "\n",
    "ipac = table.Table.read(\"ipac.tbl.txt\", format=\"ascii.ipac\")"
   ]
  },
  {
   "cell_type": "code",
   "execution_count": 38,
   "metadata": {
    "scrolled": false
   },
   "outputs": [
    {
     "data": {
      "text/html": [
       "<i>Table length=15</i>\n",
       "<table id=\"table140406451431648\" class=\"table-striped table-bordered table-condensed\">\n",
       "<thead><tr><th>designation</th><th>ra</th><th>dec</th><th>sigra</th><th>sigdec</th><th>sigradec</th><th>w1mpro</th><th>w1sigmpro</th><th>w1snr</th><th>w1rchi2</th><th>w2mpro</th><th>w2sigmpro</th><th>w2snr</th><th>w2rchi2</th><th>w3mpro</th><th>w3sigmpro</th><th>w3snr</th><th>w3rchi2</th><th>w4mpro</th><th>w4sigmpro</th><th>w4snr</th><th>w4rchi2</th><th>nb</th><th>na</th><th>w1sat</th><th>w2sat</th><th>w3sat</th><th>w4sat</th><th>cc_flags</th><th>ext_flg</th><th>var_flg</th><th>moon_lev</th><th>w1nm</th><th>w1m</th><th>w2nm</th><th>w2m</th><th>w3nm</th><th>w3m</th><th>w4nm</th><th>w4m</th><th>tmass_key</th><th>j_m_2mass</th><th>j_msig_2mass</th><th>h_m_2mass</th><th>h_msig_2mass</th><th>k_m_2mass</th><th>k_msig_2mass</th><th>dist</th><th>angle</th></tr></thead>\n",
       "<thead><tr><th></th><th>deg</th><th>deg</th><th>arcsec</th><th>arcsec</th><th>arcsec</th><th>mag</th><th>mag</th><th></th><th></th><th>mag</th><th>mag</th><th></th><th></th><th>mag</th><th>mag</th><th></th><th></th><th>mag</th><th>mag</th><th></th><th></th><th></th><th></th><th></th><th></th><th></th><th></th><th></th><th></th><th></th><th></th><th></th><th></th><th></th><th></th><th></th><th></th><th></th><th></th><th></th><th>mag</th><th>mag</th><th>mag</th><th>mag</th><th>mag</th><th>mag</th><th>arcsec</th><th>deg</th></tr></thead>\n",
       "<thead><tr><th>str19</th><th>float64</th><th>float64</th><th>float64</th><th>float64</th><th>float64</th><th>float64</th><th>float64</th><th>float64</th><th>float64</th><th>float64</th><th>float64</th><th>float64</th><th>float64</th><th>float64</th><th>float64</th><th>float64</th><th>float64</th><th>float64</th><th>float64</th><th>float64</th><th>float64</th><th>int64</th><th>int64</th><th>float64</th><th>float64</th><th>float64</th><th>float64</th><th>str4</th><th>int64</th><th>str4</th><th>str4</th><th>int64</th><th>int64</th><th>int64</th><th>int64</th><th>int64</th><th>int64</th><th>int64</th><th>int64</th><th>int64</th><th>float64</th><th>float64</th><th>float64</th><th>float64</th><th>float64</th><th>float64</th><th>float64</th><th>float64</th></tr></thead>\n",
       "<tr><td>J053516.09-052256.4</td><td>83.8170429</td><td>-5.3823382</td><td>0.1377</td><td>0.1267</td><td>-0.0916</td><td>0.916</td><td>0.007</td><td>158.6</td><td>40.78</td><td>-0.272</td><td>0.006</td><td>192.4</td><td>145.3</td><td>--</td><td>--</td><td>--</td><td>--</td><td>--</td><td>--</td><td>--</td><td>--</td><td>1</td><td>0</td><td>0.363</td><td>0.386</td><td>--</td><td>--</td><td>hh00</td><td>3</td><td>nnnn</td><td>0000</td><td>14</td><td>14</td><td>14</td><td>14</td><td>--</td><td>--</td><td>--</td><td>--</td><td>--</td><td>--</td><td>--</td><td>--</td><td>--</td><td>--</td><td>--</td><td>36.374759</td><td>330.243077</td></tr>\n",
       "<tr><td>J053515.80-052249.7</td><td>83.8158442</td><td>-5.3804979</td><td>0.0166</td><td>0.036</td><td>0.0173</td><td>1.089</td><td>0.004</td><td>256.9</td><td>94.62</td><td>6.233</td><td>--</td><td>-439.6</td><td>248.8</td><td>--</td><td>--</td><td>--</td><td>--</td><td>--</td><td>--</td><td>--</td><td>--</td><td>1</td><td>0</td><td>0.361</td><td>0.385</td><td>--</td><td>--</td><td>dD00</td><td>3</td><td>nnnn</td><td>0000</td><td>14</td><td>14</td><td>11</td><td>11</td><td>--</td><td>--</td><td>--</td><td>--</td><td>--</td><td>--</td><td>--</td><td>--</td><td>--</td><td>--</td><td>--</td><td>44.260792</td><td>329.671301</td></tr>\n",
       "<tr><td>J053523.93-052407.4</td><td>83.8497446</td><td>-5.4020611</td><td>0.055</td><td>0.0558</td><td>-0.0065</td><td>7.729</td><td>0.026</td><td>41.4</td><td>167.3</td><td>6.757</td><td>0.033</td><td>32.6</td><td>55.3</td><td>-0.143</td><td>--</td><td>-8.1</td><td>6.223</td><td>--</td><td>--</td><td>--</td><td>--</td><td>1</td><td>0</td><td>0.0</td><td>0.0</td><td>0.998</td><td>--</td><td>dd00</td><td>3</td><td>99nn</td><td>0000</td><td>13</td><td>13</td><td>13</td><td>13</td><td>0</td><td>0</td><td>--</td><td>--</td><td>--</td><td>--</td><td>--</td><td>--</td><td>--</td><td>--</td><td>--</td><td>106.701563</td><td>111.684804</td></tr>\n",
       "<tr><td>J053519.16-052512.4</td><td>83.8298405</td><td>-5.4201317</td><td>0.0485</td><td>0.0434</td><td>0.0167</td><td>6.494</td><td>0.043</td><td>25.0</td><td>1066.0</td><td>5.727</td><td>0.017</td><td>63.3</td><td>443.9</td><td>--</td><td>--</td><td>--</td><td>--</td><td>--</td><td>--</td><td>--</td><td>--</td><td>1</td><td>0</td><td>0.848</td><td>0.019</td><td>--</td><td>--</td><td>dd00</td><td>3</td><td>99nn</td><td>0000</td><td>8</td><td>8</td><td>13</td><td>13</td><td>--</td><td>--</td><td>--</td><td>--</td><td>--</td><td>--</td><td>--</td><td>--</td><td>--</td><td>--</td><td>--</td><td>108.116971</td><td>165.093157</td></tr>\n",
       "<tr><td>J053515.55-052514.4</td><td>83.8148233</td><td>-5.4206672</td><td>0.063</td><td>0.0766</td><td>-0.0039</td><td>7.396</td><td>0.039</td><td>27.6</td><td>19.47</td><td>6.836</td><td>0.033</td><td>33.2</td><td>28.48</td><td>--</td><td>--</td><td>--</td><td>--</td><td>--</td><td>--</td><td>--</td><td>--</td><td>1</td><td>0</td><td>0.103</td><td>0.0</td><td>--</td><td>--</td><td>hh00</td><td>3</td><td>99nn</td><td>0000</td><td>14</td><td>14</td><td>14</td><td>14</td><td>--</td><td>--</td><td>--</td><td>--</td><td>1194807809</td><td>10.02</td><td>0.033</td><td>9.047</td><td>0.038</td><td>8.732</td><td>0.033</td><td>109.538231</td><td>193.734703</td></tr>\n",
       "<tr><td>J053520.29-052508.2</td><td>83.8345716</td><td>-5.4189516</td><td>0.0848</td><td>0.0824</td><td>0.0366</td><td>5.901</td><td>0.163</td><td>6.6</td><td>44.06</td><td>5.314</td><td>0.034</td><td>31.6</td><td>62.08</td><td>--</td><td>--</td><td>--</td><td>--</td><td>--</td><td>--</td><td>--</td><td>--</td><td>1</td><td>0</td><td>0.918</td><td>0.424</td><td>--</td><td>--</td><td>hh0D</td><td>3</td><td>n9nn</td><td>0000</td><td>2</td><td>12</td><td>12</td><td>13</td><td>--</td><td>--</td><td>--</td><td>--</td><td>--</td><td>--</td><td>--</td><td>--</td><td>--</td><td>--</td><td>--</td><td>109.774104</td><td>155.931618</td></tr>\n",
       "<tr><td>J053518.52-052517.5</td><td>83.8271748</td><td>-5.4215396</td><td>0.0611</td><td>0.0547</td><td>0.0099</td><td>5.622</td><td>0.073</td><td>14.9</td><td>56.02</td><td>5.654</td><td>0.022</td><td>48.4</td><td>91.39</td><td>--</td><td>--</td><td>--</td><td>--</td><td>--</td><td>--</td><td>--</td><td>--</td><td>1</td><td>0</td><td>0.781</td><td>0.003</td><td>--</td><td>--</td><td>hh00</td><td>3</td><td>99nn</td><td>0000</td><td>8</td><td>13</td><td>13</td><td>13</td><td>--</td><td>--</td><td>--</td><td>--</td><td>1194807840</td><td>12.716</td><td>--</td><td>13.74</td><td>0.074</td><td>13.523</td><td>0.111</td><td>111.057959</td><td>170.536935</td></tr>\n",
       "<tr><td>J053522.23-052451.9</td><td>83.8426547</td><td>-5.4144261</td><td>0.1779</td><td>0.1842</td><td>-0.0904</td><td>7.046</td><td>0.097</td><td>11.2</td><td>112.1</td><td>--</td><td>--</td><td>--</td><td>--</td><td>--</td><td>--</td><td>--</td><td>--</td><td>--</td><td>--</td><td>--</td><td>--</td><td>1</td><td>0</td><td>0.947</td><td>--</td><td>--</td><td>--</td><td>h000</td><td>3</td><td>nnnn</td><td>0000</td><td>5</td><td>9</td><td>--</td><td>--</td><td>--</td><td>--</td><td>--</td><td>--</td><td>--</td><td>--</td><td>--</td><td>--</td><td>--</td><td>--</td><td>--</td><td>111.728109</td><td>138.701522</td></tr>\n",
       "<tr><td>J053521.46-052501.5</td><td>83.839432</td><td>-5.417085</td><td>0.0917</td><td>0.118</td><td>-0.033</td><td>7.421</td><td>0.066</td><td>16.6</td><td>42.02</td><td>6.232</td><td>0.04</td><td>27.0</td><td>72.47</td><td>--</td><td>--</td><td>--</td><td>--</td><td>--</td><td>--</td><td>--</td><td>--</td><td>1</td><td>0</td><td>0.708</td><td>0.469</td><td>--</td><td>--</td><td>dd00</td><td>3</td><td>99nn</td><td>0000</td><td>10</td><td>13</td><td>13</td><td>13</td><td>--</td><td>--</td><td>--</td><td>--</td><td>--</td><td>--</td><td>--</td><td>--</td><td>--</td><td>--</td><td>--</td><td>112.301729</td><td>146.374617</td></tr>\n",
       "<tr><td>J053523.07-052439.8</td><td>83.8461625</td><td>-5.4110794</td><td>0.0633</td><td>0.0633</td><td>0.0274</td><td>6.82</td><td>0.047</td><td>23.3</td><td>114.3</td><td>5.917</td><td>0.027</td><td>40.6</td><td>101.1</td><td>1.266</td><td>--</td><td>-22.9</td><td>40.97</td><td>--</td><td>--</td><td>--</td><td>--</td><td>1</td><td>0</td><td>0.682</td><td>0.361</td><td>0.999</td><td>--</td><td>dd00</td><td>3</td><td>94nn</td><td>0000</td><td>13</td><td>13</td><td>13</td><td>13</td><td>0</td><td>0</td><td>--</td><td>--</td><td>--</td><td>--</td><td>--</td><td>--</td><td>--</td><td>--</td><td>--</td><td>112.329648</td><td>129.792248</td></tr>\n",
       "<tr><td>J053523.79-052426.1</td><td>83.8491315</td><td>-5.4072683</td><td>0.0482</td><td>0.0445</td><td>0.0144</td><td>6.449</td><td>0.031</td><td>35.2</td><td>143.1</td><td>5.843</td><td>0.023</td><td>47.3</td><td>96.69</td><td>1.315</td><td>--</td><td>-23.5</td><td>53.43</td><td>--</td><td>--</td><td>--</td><td>--</td><td>1</td><td>0</td><td>0.405</td><td>0.037</td><td>0.998</td><td>--</td><td>dd00</td><td>3</td><td>92nn</td><td>0000</td><td>13</td><td>13</td><td>13</td><td>13</td><td>0</td><td>0</td><td>--</td><td>--</td><td>--</td><td>--</td><td>--</td><td>--</td><td>--</td><td>--</td><td>--</td><td>113.065079</td><td>120.964108</td></tr>\n",
       "<tr><td>J053516.82-052521.3</td><td>83.8200991</td><td>-5.4226055</td><td>0.0565</td><td>0.0579</td><td>-0.0098</td><td>7.618</td><td>0.03</td><td>36.1</td><td>74.09</td><td>6.68</td><td>0.029</td><td>37.8</td><td>52.83</td><td>--</td><td>--</td><td>--</td><td>--</td><td>--</td><td>--</td><td>--</td><td>--</td><td>1</td><td>0</td><td>0.0</td><td>0.0</td><td>--</td><td>--</td><td>hh00</td><td>3</td><td>99nn</td><td>0000</td><td>14</td><td>14</td><td>14</td><td>14</td><td>--</td><td>--</td><td>--</td><td>--</td><td>1194807839</td><td>12.07</td><td>--</td><td>14.202</td><td>0.103</td><td>13.228</td><td>0.091</td><td>113.60584</td><td>183.582797</td></tr>\n",
       "<tr><td>J053514.81-052517.9</td><td>83.8117253</td><td>-5.4216475</td><td>0.0703</td><td>0.0766</td><td>-0.008</td><td>8.129</td><td>0.028</td><td>39.3</td><td>118.0</td><td>7.655</td><td>0.079</td><td>13.7</td><td>5.55</td><td>--</td><td>--</td><td>--</td><td>--</td><td>--</td><td>--</td><td>--</td><td>--</td><td>1</td><td>0</td><td>0.0</td><td>0.0</td><td>--</td><td>--</td><td>hh00</td><td>3</td><td>99nn</td><td>0000</td><td>13</td><td>14</td><td>8</td><td>14</td><td>--</td><td>--</td><td>--</td><td>--</td><td>--</td><td>--</td><td>--</td><td>--</td><td>--</td><td>--</td><td>--</td><td>116.02985</td><td>198.652808</td></tr>\n",
       "<tr><td>J053514.22-052516.5</td><td>83.8092905</td><td>-5.4212504</td><td>0.087</td><td>0.0994</td><td>0.0049</td><td>8.719</td><td>0.044</td><td>24.6</td><td>21.07</td><td>7.424</td><td>0.039</td><td>28.1</td><td>26.03</td><td>-4.284</td><td>--</td><td>0.1</td><td>0.009604</td><td>--</td><td>--</td><td>--</td><td>--</td><td>1</td><td>0</td><td>0.0</td><td>0.0</td><td>1.0</td><td>--</td><td>dd00</td><td>3</td><td>99nn</td><td>0000</td><td>13</td><td>13</td><td>12</td><td>13</td><td>0</td><td>4</td><td>--</td><td>--</td><td>1194807815</td><td>12.551</td><td>0.09</td><td>11.894</td><td>0.07</td><td>11.321</td><td>0.064</td><td>117.789996</td><td>202.900699</td></tr>\n",
       "<tr><td>J053524.97-052300.5</td><td>83.8540649</td><td>-5.3834741</td><td>0.1801</td><td>0.2262</td><td>0.1171</td><td>8.473</td><td>0.1</td><td>10.9</td><td>59.53</td><td>8.067</td><td>0.164</td><td>6.6</td><td>1.333</td><td>--</td><td>--</td><td>--</td><td>--</td><td>--</td><td>--</td><td>--</td><td>--</td><td>1</td><td>0</td><td>0.0</td><td>0.0</td><td>--</td><td>--</td><td>dh0D</td><td>3</td><td>9nnn</td><td>0000</td><td>4</td><td>13</td><td>0</td><td>13</td><td>--</td><td>--</td><td>--</td><td>--</td><td>1194806682</td><td>10.651</td><td>0.022</td><td>9.431</td><td>0.03</td><td>8.757</td><td>0.018</td><td>117.886976</td><td>76.516943</td></tr>\n",
       "</table>"
      ],
      "text/plain": [
       "<Table length=15>\n",
       "    designation         ra        dec     ... k_msig_2mass    dist      angle   \n",
       "                       deg        deg     ...     mag        arcsec      deg    \n",
       "       str19         float64    float64   ...   float64     float64    float64  \n",
       "------------------- ---------- ---------- ... ------------ ---------- ----------\n",
       "J053516.09-052256.4 83.8170429 -5.3823382 ...           --  36.374759 330.243077\n",
       "J053515.80-052249.7 83.8158442 -5.3804979 ...           --  44.260792 329.671301\n",
       "J053523.93-052407.4 83.8497446 -5.4020611 ...           -- 106.701563 111.684804\n",
       "J053519.16-052512.4 83.8298405 -5.4201317 ...           -- 108.116971 165.093157\n",
       "J053515.55-052514.4 83.8148233 -5.4206672 ...        0.033 109.538231 193.734703\n",
       "J053520.29-052508.2 83.8345716 -5.4189516 ...           -- 109.774104 155.931618\n",
       "J053518.52-052517.5 83.8271748 -5.4215396 ...        0.111 111.057959 170.536935\n",
       "J053522.23-052451.9 83.8426547 -5.4144261 ...           -- 111.728109 138.701522\n",
       "J053521.46-052501.5  83.839432  -5.417085 ...           -- 112.301729 146.374617\n",
       "J053523.07-052439.8 83.8461625 -5.4110794 ...           -- 112.329648 129.792248\n",
       "J053523.79-052426.1 83.8491315 -5.4072683 ...           -- 113.065079 120.964108\n",
       "J053516.82-052521.3 83.8200991 -5.4226055 ...        0.091  113.60584 183.582797\n",
       "J053514.81-052517.9 83.8117253 -5.4216475 ...           --  116.02985 198.652808\n",
       "J053514.22-052516.5 83.8092905 -5.4212504 ...        0.064 117.789996 202.900699\n",
       "J053524.97-052300.5 83.8540649 -5.3834741 ...        0.018 117.886976  76.516943"
      ]
     },
     "execution_count": 38,
     "metadata": {},
     "output_type": "execute_result"
    }
   ],
   "source": [
    "ipac"
   ]
  },
  {
   "cell_type": "markdown",
   "metadata": {},
   "source": [
    "### Exercise: \n",
    "\n",
    "1. Go to the [IPAC Web Interface for the WISE survey](https://irsa.ipac.caltech.edu/applications/Gator/), and using the WISE All-Sky Source Catalog and search for all the objects within 5 arcminutes around your favourite astronomical object. (Hint: The Object name field is generally smart enough to take common names of astronomical objects. You probably shouldn't choose a solar system object -- sorry, Mars lovers). \n",
    "2. Download the `ipac` formatted file of the default columns from the WISE object search, and open it in your Jupyter Notebook. \n",
    "3. Select the columns for the Object Name, the Position (RA and Dec), and `w1mpro` Magnitude, and save it to a LaTeX table. "
   ]
  },
  {
   "cell_type": "code",
   "execution_count": 62,
   "metadata": {},
   "outputs": [
    {
     "data": {
      "text/html": [
       "<i>Table length=114</i>\n",
       "<table id=\"table140406491629696\" class=\"table-striped table-bordered table-condensed\">\n",
       "<thead><tr><th>designation</th><th>ra</th><th>dec</th><th>sigra</th><th>sigdec</th><th>sigradec</th><th>w1mpro</th><th>w1sigmpro</th><th>w1snr</th><th>w1rchi2</th><th>w2mpro</th><th>w2sigmpro</th><th>w2snr</th><th>w2rchi2</th><th>w3mpro</th><th>w3sigmpro</th><th>w3snr</th><th>w3rchi2</th><th>w4mpro</th><th>w4sigmpro</th><th>w4snr</th><th>w4rchi2</th><th>nb</th><th>na</th><th>w1sat</th><th>w2sat</th><th>w3sat</th><th>w4sat</th><th>pmra</th><th>sigpmra</th><th>pmdec</th><th>sigpmdec</th><th>cc_flags</th><th>ext_flg</th><th>var_flg</th><th>ph_qual</th><th>moon_lev</th><th>w1nm</th><th>w1m</th><th>w2nm</th><th>w2m</th><th>w3nm</th><th>w3m</th><th>w4nm</th><th>w4m</th><th>dist</th><th>angle</th></tr></thead>\n",
       "<thead><tr><th></th><th>deg</th><th>deg</th><th>arcsec</th><th>arcsec</th><th>arcsec</th><th>mag</th><th>mag</th><th></th><th></th><th>mag</th><th>mag</th><th></th><th></th><th>mag</th><th>mag</th><th></th><th></th><th>mag</th><th>mag</th><th></th><th></th><th></th><th></th><th></th><th></th><th></th><th></th><th>mas / yr</th><th>mas / yr</th><th>mas / yr</th><th>mas / yr</th><th></th><th></th><th></th><th></th><th></th><th></th><th></th><th></th><th></th><th></th><th></th><th></th><th></th><th>arcsec</th><th>deg</th></tr></thead>\n",
       "<thead><tr><th>str19</th><th>float64</th><th>float64</th><th>float64</th><th>float64</th><th>float64</th><th>float64</th><th>float64</th><th>float64</th><th>float64</th><th>float64</th><th>float64</th><th>float64</th><th>float64</th><th>float64</th><th>float64</th><th>float64</th><th>float64</th><th>float64</th><th>float64</th><th>float64</th><th>float64</th><th>int64</th><th>int64</th><th>float64</th><th>float64</th><th>float64</th><th>float64</th><th>int64</th><th>int64</th><th>int64</th><th>int64</th><th>str4</th><th>int64</th><th>str4</th><th>str4</th><th>str4</th><th>int64</th><th>int64</th><th>int64</th><th>int64</th><th>int64</th><th>int64</th><th>int64</th><th>int64</th><th>float64</th><th>float64</th></tr></thead>\n",
       "<tr><td>J000001.28-000011.1</td><td>0.0053358</td><td>-0.0031038</td><td>0.3528</td><td>0.3669</td><td>-0.1065</td><td>16.991</td><td>0.118</td><td>9.2</td><td>1.083</td><td>16.562</td><td>--</td><td>1.9</td><td>0.9138</td><td>11.9</td><td>--</td><td>1.7</td><td>0.9623</td><td>8.978</td><td>--</td><td>0.0</td><td>1.051</td><td>1</td><td>0</td><td>0.0</td><td>0.0</td><td>0.0</td><td>0.0</td><td>-704</td><td>1547</td><td>-3035</td><td>1602</td><td>0000</td><td>0</td><td>nnnn</td><td>BUUU</td><td>1100</td><td>6</td><td>27</td><td>1</td><td>27</td><td>0</td><td>14</td><td>0</td><td>14</td><td>22.222335</td><td>120.186284</td></tr>\n",
       "<tr><td>J000001.68+000008.1</td><td>0.0070215</td><td>0.0022575</td><td>0.4121</td><td>0.4292</td><td>-0.1335</td><td>17.11</td><td>0.133</td><td>8.1</td><td>0.9291</td><td>16.751</td><td>--</td><td>1.0</td><td>0.9008</td><td>12.129</td><td>--</td><td>0.5</td><td>0.9029</td><td>9.07</td><td>--</td><td>-1.4</td><td>1.031</td><td>1</td><td>0</td><td>0.0</td><td>0.0</td><td>0.0</td><td>0.0</td><td>2162</td><td>1716</td><td>-775</td><td>1790</td><td>0000</td><td>0</td><td>nnnn</td><td>BUUU</td><td>1100</td><td>6</td><td>26</td><td>0</td><td>26</td><td>0</td><td>14</td><td>0</td><td>14</td><td>26.551743</td><td>72.176753</td></tr>\n",
       "<tr><td>J000002.27-000002.9</td><td>0.0094609</td><td>-0.0008276</td><td>0.1191</td><td>0.1193</td><td>-0.0326</td><td>15.521</td><td>0.044</td><td>24.5</td><td>1.014</td><td>15.508</td><td>0.113</td><td>9.6</td><td>1.017</td><td>12.478</td><td>--</td><td>-0.3</td><td>0.8803</td><td>9.063</td><td>--</td><td>-0.6</td><td>1.052</td><td>1</td><td>0</td><td>0.0</td><td>0.0</td><td>0.0</td><td>0.0</td><td>-232</td><td>394</td><td>-409</td><td>401</td><td>0000</td><td>0</td><td>0nnn</td><td>ABUU</td><td>1100</td><td>27</td><td>27</td><td>3</td><td>27</td><td>0</td><td>14</td><td>0</td><td>14</td><td>34.189303</td><td>94.99927</td></tr>\n",
       "<tr><td>J000002.04+000018.0</td><td>0.0085103</td><td>0.0050033</td><td>0.4413</td><td>0.4505</td><td>-0.1348</td><td>17.217</td><td>0.151</td><td>7.2</td><td>0.845</td><td>16.696</td><td>0.354</td><td>3.1</td><td>0.795</td><td>12.62</td><td>--</td><td>-0.3</td><td>0.9418</td><td>8.788</td><td>--</td><td>0.3</td><td>1.01</td><td>1</td><td>0</td><td>0.0</td><td>0.0</td><td>0.0</td><td>0.0</td><td>-81</td><td>1864</td><td>-1158</td><td>1906</td><td>0000</td><td>0</td><td>nnnn</td><td>BBUU</td><td>1100</td><td>3</td><td>27</td><td>0</td><td>27</td><td>0</td><td>15</td><td>0</td><td>15</td><td>35.539534</td><td>59.548256</td></tr>\n",
       "<tr><td>J000000.07+000036.7</td><td>0.0003079</td><td>0.0102014</td><td>0.6027</td><td>0.6195</td><td>-0.1899</td><td>17.594</td><td>0.193</td><td>5.6</td><td>0.8862</td><td>16.984</td><td>--</td><td>0.5</td><td>0.8857</td><td>12.606</td><td>--</td><td>0.0</td><td>1.016</td><td>8.367</td><td>--</td><td>1.4</td><td>0.941</td><td>1</td><td>0</td><td>0.0</td><td>0.0</td><td>0.0</td><td>0.0</td><td>-533</td><td>2876</td><td>1030</td><td>2945</td><td>0000</td><td>0</td><td>nnnn</td><td>BUUU</td><td>1100</td><td>2</td><td>27</td><td>1</td><td>27</td><td>0</td><td>15</td><td>0</td><td>15</td><td>36.741764</td><td>1.728784</td></tr>\n",
       "<tr><td>J000002.68-000025.6</td><td>0.0111671</td><td>-0.0071335</td><td>0.4186</td><td>0.4293</td><td>-0.1388</td><td>17.218</td><td>0.143</td><td>7.6</td><td>0.8133</td><td>16.71</td><td>0.323</td><td>3.4</td><td>1.011</td><td>12.42</td><td>--</td><td>-0.1</td><td>0.7623</td><td>8.922</td><td>--</td><td>0.3</td><td>1.112</td><td>1</td><td>0</td><td>0.0</td><td>0.0</td><td>0.0</td><td>0.0</td><td>1025</td><td>1823</td><td>602</td><td>1868</td><td>0000</td><td>0</td><td>nnnn</td><td>BBUU</td><td>1100</td><td>3</td><td>27</td><td>0</td><td>27</td><td>0</td><td>14</td><td>0</td><td>14</td><td>47.703864</td><td>122.570282</td></tr>\n",
       "<tr><td>J235958.35-000042.6</td><td>359.9931315</td><td>-0.0118502</td><td>0.372</td><td>0.3899</td><td>-0.1229</td><td>17.147</td><td>0.134</td><td>8.1</td><td>0.9263</td><td>16.229</td><td>0.245</td><td>4.4</td><td>0.8912</td><td>12.034</td><td>--</td><td>1.5</td><td>1.133</td><td>8.958</td><td>--</td><td>0.1</td><td>0.8777</td><td>1</td><td>0</td><td>0.0</td><td>0.002</td><td>0.0</td><td>0.0</td><td>-1342</td><td>1646</td><td>-1394</td><td>1725</td><td>0000</td><td>0</td><td>nnnn</td><td>BBUU</td><td>1100</td><td>5</td><td>26</td><td>0</td><td>26</td><td>0</td><td>13</td><td>0</td><td>13</td><td>49.308638</td><td>210.09703</td></tr>\n",
       "<tr><td>J000003.70+000008.9</td><td>0.0154566</td><td>0.0024841</td><td>0.2456</td><td>0.2527</td><td>-0.076</td><td>16.502</td><td>0.088</td><td>12.4</td><td>0.8873</td><td>16.014</td><td>0.18</td><td>6.0</td><td>0.8611</td><td>12.313</td><td>--</td><td>0.3</td><td>0.9501</td><td>9.085</td><td>--</td><td>-1.2</td><td>0.9551</td><td>1</td><td>0</td><td>0.0</td><td>0.0</td><td>0.0</td><td>0.0</td><td>1255</td><td>968</td><td>-720</td><td>1002</td><td>0000</td><td>0</td><td>0nnn</td><td>ABUU</td><td>1100</td><td>13</td><td>25</td><td>1</td><td>25</td><td>0</td><td>14</td><td>0</td><td>14</td><td>56.357794</td><td>80.86981</td></tr>\n",
       "<tr><td>J235956.70+000029.4</td><td>359.9862635</td><td>0.0081931</td><td>0.4868</td><td>0.5009</td><td>-0.1419</td><td>17.31</td><td>0.163</td><td>6.7</td><td>0.8987</td><td>16.982</td><td>0.455</td><td>2.4</td><td>0.8729</td><td>12.542</td><td>--</td><td>0.1</td><td>0.8288</td><td>8.932</td><td>--</td><td>-0.5</td><td>1.001</td><td>1</td><td>0</td><td>0.0</td><td>0.0</td><td>0.0</td><td>0.0</td><td>3741</td><td>2137</td><td>1687</td><td>2202</td><td>0000</td><td>0</td><td>nnnn</td><td>BCUU</td><td>1100</td><td>4</td><td>26</td><td>0</td><td>26</td><td>0</td><td>14</td><td>0</td><td>14</td><td>57.579557</td><td>300.813855</td></tr>\n",
       "<tr><td>...</td><td>...</td><td>...</td><td>...</td><td>...</td><td>...</td><td>...</td><td>...</td><td>...</td><td>...</td><td>...</td><td>...</td><td>...</td><td>...</td><td>...</td><td>...</td><td>...</td><td>...</td><td>...</td><td>...</td><td>...</td><td>...</td><td>...</td><td>...</td><td>...</td><td>...</td><td>...</td><td>...</td><td>...</td><td>...</td><td>...</td><td>...</td><td>...</td><td>...</td><td>...</td><td>...</td><td>...</td><td>...</td><td>...</td><td>...</td><td>...</td><td>...</td><td>...</td><td>...</td><td>...</td><td>...</td><td>...</td></tr>\n",
       "<tr><td>J000001.42+000400.5</td><td>0.0059491</td><td>0.0668276</td><td>0.5584</td><td>0.5841</td><td>-0.1941</td><td>17.427</td><td>0.181</td><td>6.0</td><td>1.073</td><td>17.159</td><td>--</td><td>-0.9</td><td>0.8864</td><td>12.529</td><td>--</td><td>-0.5</td><td>0.8311</td><td>8.428</td><td>--</td><td>1.2</td><td>0.9194</td><td>1</td><td>0</td><td>0.0</td><td>0.0</td><td>0.0</td><td>0.0</td><td>2487</td><td>2462</td><td>3444</td><td>2566</td><td>0000</td><td>0</td><td>nnnn</td><td>BUUU</td><td>1100</td><td>3</td><td>23</td><td>0</td><td>23</td><td>0</td><td>13</td><td>0</td><td>13</td><td>241.530756</td><td>5.08715</td></tr>\n",
       "<tr><td>J000004.13+000358.7</td><td>0.0172266</td><td>0.0663266</td><td>0.6391</td><td>0.6585</td><td>-0.1837</td><td>17.608</td><td>0.215</td><td>5.0</td><td>0.8664</td><td>17.13</td><td>--</td><td>-2.0</td><td>0.7792</td><td>12.503</td><td>--</td><td>-0.8</td><td>0.9318</td><td>8.651</td><td>--</td><td>0.7</td><td>0.8959</td><td>1</td><td>0</td><td>0.0</td><td>0.0</td><td>0.0</td><td>0.003</td><td>-1340</td><td>2854</td><td>-2946</td><td>2965</td><td>0000</td><td>0</td><td>nnnn</td><td>BUUU</td><td>1100</td><td>1</td><td>23</td><td>0</td><td>23</td><td>0</td><td>13</td><td>0</td><td>13</td><td>246.697824</td><td>14.559388</td></tr>\n",
       "<tr><td>J000000.02+000407.3</td><td>8.44e-05</td><td>0.068707</td><td>0.2686</td><td>0.2759</td><td>-0.0881</td><td>16.585</td><td>0.092</td><td>11.8</td><td>0.9551</td><td>16.136</td><td>0.226</td><td>4.8</td><td>0.8917</td><td>12.061</td><td>--</td><td>1.1</td><td>1.046</td><td>8.536</td><td>--</td><td>1.2</td><td>0.8852</td><td>1</td><td>0</td><td>0.0</td><td>0.0</td><td>0.0</td><td>0.0</td><td>712</td><td>1156</td><td>1457</td><td>1192</td><td>0000</td><td>0</td><td>0nnn</td><td>ABUU</td><td>1100</td><td>11</td><td>23</td><td>0</td><td>23</td><td>0</td><td>13</td><td>0</td><td>13</td><td>247.345387</td><td>0.070382</td></tr>\n",
       "<tr><td>J235956.92-000410.6</td><td>359.9871842</td><td>-0.0696346</td><td>0.07</td><td>0.07</td><td>-0.0114</td><td>14.437</td><td>0.03</td><td>35.9</td><td>1.366</td><td>14.458</td><td>0.057</td><td>19.1</td><td>0.8835</td><td>12.28</td><td>--</td><td>0.1</td><td>0.9211</td><td>8.426</td><td>--</td><td>1.0</td><td>0.8971</td><td>1</td><td>0</td><td>0.0</td><td>0.0</td><td>0.0</td><td>0.0</td><td>-254</td><td>175</td><td>-167</td><td>180</td><td>hh00</td><td>0</td><td>00nn</td><td>AAUU</td><td>1100</td><td>24</td><td>24</td><td>24</td><td>24</td><td>0</td><td>12</td><td>0</td><td>12</td><td>254.8948</td><td>190.428218</td></tr>\n",
       "<tr><td>J235955.57-000409.5</td><td>359.9815474</td><td>-0.0693166</td><td>0.3886</td><td>0.4038</td><td>-0.1153</td><td>17.079</td><td>0.13</td><td>8.3</td><td>1.092</td><td>16.867</td><td>0.387</td><td>2.8</td><td>0.9587</td><td>12.467</td><td>--</td><td>0.1</td><td>0.9237</td><td>8.817</td><td>--</td><td>0.1</td><td>0.9514</td><td>1</td><td>0</td><td>0.0</td><td>0.0</td><td>0.0</td><td>0.0</td><td>-1527</td><td>1804</td><td>1980</td><td>1870</td><td>0h00</td><td>0</td><td>nnnn</td><td>BCUU</td><td>1100</td><td>6</td><td>24</td><td>1</td><td>24</td><td>0</td><td>12</td><td>0</td><td>12</td><td>258.230419</td><td>194.906846</td></tr>\n",
       "<tr><td>J000003.17+000418.8</td><td>0.0132147</td><td>0.0718942</td><td>0.3275</td><td>0.3439</td><td>-0.0987</td><td>16.973</td><td>0.126</td><td>8.6</td><td>0.8393</td><td>15.82</td><td>0.177</td><td>6.1</td><td>0.8376</td><td>12.548</td><td>--</td><td>-0.1</td><td>0.9289</td><td>8.904</td><td>--</td><td>-0.6</td><td>0.9383</td><td>1</td><td>0</td><td>0.0</td><td>0.0</td><td>0.0</td><td>0.0</td><td>653</td><td>1409</td><td>1200</td><td>1469</td><td>0000</td><td>0</td><td>nnnn</td><td>BBUU</td><td>1100</td><td>2</td><td>23</td><td>1</td><td>23</td><td>0</td><td>13</td><td>0</td><td>13</td><td>263.154932</td><td>10.41514</td></tr>\n",
       "<tr><td>J000000.02+000427.6</td><td>0.0001196</td><td>0.0743397</td><td>0.4823</td><td>0.4963</td><td>-0.1653</td><td>17.295</td><td>0.158</td><td>6.9</td><td>0.8936</td><td>17.174</td><td>0.537</td><td>2.0</td><td>0.9408</td><td>12.237</td><td>--</td><td>0.7</td><td>0.9488</td><td>9.076</td><td>--</td><td>-0.5</td><td>0.97</td><td>1</td><td>0</td><td>0.0</td><td>0.0</td><td>0.0</td><td>0.0</td><td>2512</td><td>2330</td><td>-2170</td><td>2425</td><td>0000</td><td>0</td><td>nnnn</td><td>BCUU</td><td>1100</td><td>3</td><td>23</td><td>1</td><td>23</td><td>0</td><td>12</td><td>0</td><td>13</td><td>267.623266</td><td>0.092179</td></tr>\n",
       "<tr><td>J000000.05+000437.7</td><td>0.000211</td><td>0.0771555</td><td>0.1831</td><td>0.188</td><td>-0.0526</td><td>16.084</td><td>0.064</td><td>17.0</td><td>0.9015</td><td>16.209</td><td>0.256</td><td>4.2</td><td>0.8522</td><td>12.137</td><td>--</td><td>0.9</td><td>0.9943</td><td>9.02</td><td>--</td><td>-0.1</td><td>0.8722</td><td>1</td><td>0</td><td>0.0</td><td>0.0</td><td>0.0</td><td>0.0</td><td>-722</td><td>711</td><td>-280</td><td>730</td><td>0000</td><td>0</td><td>0nnn</td><td>ABUU</td><td>1100</td><td>20</td><td>23</td><td>1</td><td>23</td><td>0</td><td>12</td><td>0</td><td>13</td><td>277.760839</td><td>0.156688</td></tr>\n",
       "<tr><td>J000002.65+000436.5</td><td>0.0110515</td><td>0.0768156</td><td>0.6429</td><td>0.6772</td><td>-0.1919</td><td>17.579</td><td>0.21</td><td>5.2</td><td>0.9825</td><td>17.077</td><td>--</td><td>-0.2</td><td>1.008</td><td>12.627</td><td>--</td><td>-1.4</td><td>1.112</td><td>9.04</td><td>--</td><td>-0.2</td><td>1.005</td><td>1</td><td>0</td><td>0.0</td><td>0.0</td><td>0.0</td><td>0.0</td><td>7231</td><td>2972</td><td>3889</td><td>3101</td><td>0000</td><td>0</td><td>nnnn</td><td>BUUU</td><td>1100</td><td>1</td><td>22</td><td>0</td><td>22</td><td>0</td><td>12</td><td>0</td><td>12</td><td>279.383473</td><td>8.18699</td></tr>\n",
       "<tr><td>J000001.57+000441.5</td><td>0.0065813</td><td>0.0781949</td><td>0.2448</td><td>0.2576</td><td>-0.0797</td><td>16.459</td><td>0.084</td><td>12.9</td><td>0.8954</td><td>16.288</td><td>0.261</td><td>4.2</td><td>0.819</td><td>12.211</td><td>--</td><td>0.8</td><td>0.8586</td><td>8.74</td><td>0.457</td><td>2.4</td><td>1.094</td><td>1</td><td>0</td><td>0.0</td><td>0.0</td><td>0.0</td><td>0.0</td><td>1152</td><td>973</td><td>-294</td><td>1026</td><td>0000</td><td>0</td><td>1nnn</td><td>ABUC</td><td>1100</td><td>9</td><td>22</td><td>1</td><td>22</td><td>0</td><td>12</td><td>0</td><td>12</td><td>282.496931</td><td>4.810977</td></tr>\n",
       "</table>"
      ],
      "text/plain": [
       "<Table length=114>\n",
       "    designation          ra        dec     ...  w4m     dist      angle   \n",
       "                        deg        deg     ...         arcsec      deg    \n",
       "       str19          float64    float64   ... int64  float64    float64  \n",
       "------------------- ----------- ---------- ... ----- ---------- ----------\n",
       "J000001.28-000011.1   0.0053358 -0.0031038 ...    14  22.222335 120.186284\n",
       "J000001.68+000008.1   0.0070215  0.0022575 ...    14  26.551743  72.176753\n",
       "J000002.27-000002.9   0.0094609 -0.0008276 ...    14  34.189303   94.99927\n",
       "J000002.04+000018.0   0.0085103  0.0050033 ...    15  35.539534  59.548256\n",
       "J000000.07+000036.7   0.0003079  0.0102014 ...    15  36.741764   1.728784\n",
       "J000002.68-000025.6   0.0111671 -0.0071335 ...    14  47.703864 122.570282\n",
       "J235958.35-000042.6 359.9931315 -0.0118502 ...    13  49.308638  210.09703\n",
       "J000003.70+000008.9   0.0154566  0.0024841 ...    14  56.357794   80.86981\n",
       "J235956.70+000029.4 359.9862635  0.0081931 ...    14  57.579557 300.813855\n",
       "                ...         ...        ... ...   ...        ...        ...\n",
       "J000001.42+000400.5   0.0059491  0.0668276 ...    13 241.530756    5.08715\n",
       "J000004.13+000358.7   0.0172266  0.0663266 ...    13 246.697824  14.559388\n",
       "J000000.02+000407.3    8.44e-05   0.068707 ...    13 247.345387   0.070382\n",
       "J235956.92-000410.6 359.9871842 -0.0696346 ...    12   254.8948 190.428218\n",
       "J235955.57-000409.5 359.9815474 -0.0693166 ...    12 258.230419 194.906846\n",
       "J000003.17+000418.8   0.0132147  0.0718942 ...    13 263.154932   10.41514\n",
       "J000000.02+000427.6   0.0001196  0.0743397 ...    13 267.623266   0.092179\n",
       "J000000.05+000437.7    0.000211  0.0771555 ...    13 277.760839   0.156688\n",
       "J000002.65+000436.5   0.0110515  0.0768156 ...    12 279.383473    8.18699\n",
       "J000001.57+000441.5   0.0065813  0.0781949 ...    12 282.496931   4.810977"
      ]
     },
     "metadata": {},
     "output_type": "display_data"
    }
   ],
   "source": [
    "ipac = table.Table.read(\"table_irsa_catalog_search_results.tbl\", format=\"ascii.ipac\")\n",
    "display(ipac)\n",
    "ipac[\"designation\", \"ra\", \"dec\", \"w1mpro\"].write(\"my_latex_table.tex\", format=\"ascii.latex\")"
   ]
  },
  {
   "cell_type": "markdown",
   "metadata": {},
   "source": [
    "## Reading and Writing to Pandas Dataframes\n",
    "* What are Pandas dataframes?\n",
    "* Making a data frame\n",
    "* Automagically reading in csv files\n",
    "* Writing out different data formats"
   ]
  },
  {
   "cell_type": "markdown",
   "metadata": {},
   "source": [
    "Pandas is the primarily data analysis library, which makes dealing with tabular data _much easier_. It's used well beyond astronomy, so it is incredibly robust and feature filled. The most basic element of Pandas starts with a DataFrame. Let's make the simplest of them:"
   ]
  },
  {
   "cell_type": "code",
   "execution_count": 39,
   "metadata": {},
   "outputs": [],
   "source": [
    "df1 = pd.DataFrame()"
   ]
  },
  {
   "cell_type": "markdown",
   "metadata": {},
   "source": [
    "Like the Astropy tables, columns are dictionary-like, and rows are array-like. Let's make some columns:"
   ]
  },
  {
   "cell_type": "code",
   "execution_count": 40,
   "metadata": {},
   "outputs": [],
   "source": [
    "df1[\"col1\"] = [2, 3, 4]\n",
    "df1[\"col4\"] = [-12.2, 23.1, 984.2]"
   ]
  },
  {
   "cell_type": "code",
   "execution_count": 41,
   "metadata": {},
   "outputs": [
    {
     "data": {
      "text/html": [
       "<div>\n",
       "<style scoped>\n",
       "    .dataframe tbody tr th:only-of-type {\n",
       "        vertical-align: middle;\n",
       "    }\n",
       "\n",
       "    .dataframe tbody tr th {\n",
       "        vertical-align: top;\n",
       "    }\n",
       "\n",
       "    .dataframe thead th {\n",
       "        text-align: right;\n",
       "    }\n",
       "</style>\n",
       "<table border=\"1\" class=\"dataframe\">\n",
       "  <thead>\n",
       "    <tr style=\"text-align: right;\">\n",
       "      <th></th>\n",
       "      <th>col1</th>\n",
       "      <th>col4</th>\n",
       "    </tr>\n",
       "  </thead>\n",
       "  <tbody>\n",
       "    <tr>\n",
       "      <th>0</th>\n",
       "      <td>2</td>\n",
       "      <td>-12.2</td>\n",
       "    </tr>\n",
       "    <tr>\n",
       "      <th>1</th>\n",
       "      <td>3</td>\n",
       "      <td>23.1</td>\n",
       "    </tr>\n",
       "    <tr>\n",
       "      <th>2</th>\n",
       "      <td>4</td>\n",
       "      <td>984.2</td>\n",
       "    </tr>\n",
       "  </tbody>\n",
       "</table>\n",
       "</div>"
      ],
      "text/plain": [
       "   col1   col4\n",
       "0     2  -12.2\n",
       "1     3   23.1\n",
       "2     4  984.2"
      ]
     },
     "execution_count": 41,
     "metadata": {},
     "output_type": "execute_result"
    }
   ],
   "source": [
    "df1"
   ]
  },
  {
   "cell_type": "markdown",
   "metadata": {},
   "source": [
    "We can even make columns using data from previous columns:"
   ]
  },
  {
   "cell_type": "code",
   "execution_count": 42,
   "metadata": {},
   "outputs": [],
   "source": [
    "df1[\"col5\"] = df1[\"col4\"] ** df1[\"col1\"]"
   ]
  },
  {
   "cell_type": "markdown",
   "metadata": {},
   "source": [
    "And we can add new columns with completely different data types right from the start:"
   ]
  },
  {
   "cell_type": "code",
   "execution_count": 43,
   "metadata": {},
   "outputs": [],
   "source": [
    "df1[\"name\"] = [\"row1\", \"row2\", \"row3\"]"
   ]
  },
  {
   "cell_type": "code",
   "execution_count": 44,
   "metadata": {},
   "outputs": [
    {
     "data": {
      "text/html": [
       "<div>\n",
       "<style scoped>\n",
       "    .dataframe tbody tr th:only-of-type {\n",
       "        vertical-align: middle;\n",
       "    }\n",
       "\n",
       "    .dataframe tbody tr th {\n",
       "        vertical-align: top;\n",
       "    }\n",
       "\n",
       "    .dataframe thead th {\n",
       "        text-align: right;\n",
       "    }\n",
       "</style>\n",
       "<table border=\"1\" class=\"dataframe\">\n",
       "  <thead>\n",
       "    <tr style=\"text-align: right;\">\n",
       "      <th></th>\n",
       "      <th>col1</th>\n",
       "      <th>col4</th>\n",
       "      <th>col5</th>\n",
       "      <th>name</th>\n",
       "    </tr>\n",
       "  </thead>\n",
       "  <tbody>\n",
       "    <tr>\n",
       "      <th>0</th>\n",
       "      <td>2</td>\n",
       "      <td>-12.2</td>\n",
       "      <td>1.488400e+02</td>\n",
       "      <td>row1</td>\n",
       "    </tr>\n",
       "    <tr>\n",
       "      <th>1</th>\n",
       "      <td>3</td>\n",
       "      <td>23.1</td>\n",
       "      <td>1.232639e+04</td>\n",
       "      <td>row2</td>\n",
       "    </tr>\n",
       "    <tr>\n",
       "      <th>2</th>\n",
       "      <td>4</td>\n",
       "      <td>984.2</td>\n",
       "      <td>9.382821e+11</td>\n",
       "      <td>row3</td>\n",
       "    </tr>\n",
       "  </tbody>\n",
       "</table>\n",
       "</div>"
      ],
      "text/plain": [
       "   col1   col4          col5  name\n",
       "0     2  -12.2  1.488400e+02  row1\n",
       "1     3   23.1  1.232639e+04  row2\n",
       "2     4  984.2  9.382821e+11  row3"
      ]
     },
     "execution_count": 44,
     "metadata": {},
     "output_type": "execute_result"
    }
   ],
   "source": [
    "df1"
   ]
  },
  {
   "cell_type": "markdown",
   "metadata": {},
   "source": [
    "To select individiual rows (or groups of rows), you can use the `iloc` property of the DataFrame:"
   ]
  },
  {
   "cell_type": "code",
   "execution_count": 45,
   "metadata": {
    "scrolled": true
   },
   "outputs": [
    {
     "data": {
      "text/html": [
       "<div>\n",
       "<style scoped>\n",
       "    .dataframe tbody tr th:only-of-type {\n",
       "        vertical-align: middle;\n",
       "    }\n",
       "\n",
       "    .dataframe tbody tr th {\n",
       "        vertical-align: top;\n",
       "    }\n",
       "\n",
       "    .dataframe thead th {\n",
       "        text-align: right;\n",
       "    }\n",
       "</style>\n",
       "<table border=\"1\" class=\"dataframe\">\n",
       "  <thead>\n",
       "    <tr style=\"text-align: right;\">\n",
       "      <th></th>\n",
       "      <th>col1</th>\n",
       "      <th>col4</th>\n",
       "      <th>col5</th>\n",
       "      <th>name</th>\n",
       "    </tr>\n",
       "  </thead>\n",
       "  <tbody>\n",
       "    <tr>\n",
       "      <th>0</th>\n",
       "      <td>2</td>\n",
       "      <td>-12.2</td>\n",
       "      <td>148.840</td>\n",
       "      <td>row1</td>\n",
       "    </tr>\n",
       "    <tr>\n",
       "      <th>1</th>\n",
       "      <td>3</td>\n",
       "      <td>23.1</td>\n",
       "      <td>12326.391</td>\n",
       "      <td>row2</td>\n",
       "    </tr>\n",
       "  </tbody>\n",
       "</table>\n",
       "</div>"
      ],
      "text/plain": [
       "   col1  col4       col5  name\n",
       "0     2 -12.2    148.840  row1\n",
       "1     3  23.1  12326.391  row2"
      ]
     },
     "execution_count": 45,
     "metadata": {},
     "output_type": "execute_result"
    }
   ],
   "source": [
    "df1.iloc[0:2]"
   ]
  },
  {
   "cell_type": "markdown",
   "metadata": {},
   "source": [
    "Some of the magic starts right off the bat, with reading in a file. CSVs are some of the most common files you'll encounter for distributing data. Let's open one up from a query from the Sloan Digital Sky Survey database:"
   ]
  },
  {
   "cell_type": "code",
   "execution_count": 46,
   "metadata": {},
   "outputs": [],
   "source": [
    "# Reading in a CSV file\n",
    "\n",
    "sdss_df = pd.read_csv(\"sdss_query.csv\")"
   ]
  },
  {
   "cell_type": "code",
   "execution_count": 47,
   "metadata": {
    "scrolled": false
   },
   "outputs": [
    {
     "data": {
      "text/html": [
       "<div>\n",
       "<style scoped>\n",
       "    .dataframe tbody tr th:only-of-type {\n",
       "        vertical-align: middle;\n",
       "    }\n",
       "\n",
       "    .dataframe tbody tr th {\n",
       "        vertical-align: top;\n",
       "    }\n",
       "\n",
       "    .dataframe thead th {\n",
       "        text-align: right;\n",
       "    }\n",
       "</style>\n",
       "<table border=\"1\" class=\"dataframe\">\n",
       "  <thead>\n",
       "    <tr style=\"text-align: right;\">\n",
       "      <th></th>\n",
       "      <th>ra</th>\n",
       "      <th>dec</th>\n",
       "      <th>objID</th>\n",
       "      <th>cModelMag_u</th>\n",
       "      <th>cModelMag_g</th>\n",
       "      <th>cModelMag_r</th>\n",
       "      <th>cModelMag_i</th>\n",
       "      <th>cModelMag_z</th>\n",
       "      <th>z</th>\n",
       "      <th>distance</th>\n",
       "    </tr>\n",
       "  </thead>\n",
       "  <tbody>\n",
       "    <tr>\n",
       "      <th>0</th>\n",
       "      <td>188.49659</td>\n",
       "      <td>64.937189</td>\n",
       "      <td>1237651066280083645</td>\n",
       "      <td>22.07714</td>\n",
       "      <td>19.20137</td>\n",
       "      <td>17.70338</td>\n",
       "      <td>17.20188</td>\n",
       "      <td>16.81002</td>\n",
       "      <td>0.238143</td>\n",
       "      <td>17.465759</td>\n",
       "    </tr>\n",
       "    <tr>\n",
       "      <th>1</th>\n",
       "      <td>187.68386</td>\n",
       "      <td>64.852455</td>\n",
       "      <td>1237658607147876438</td>\n",
       "      <td>20.16566</td>\n",
       "      <td>18.30428</td>\n",
       "      <td>17.30787</td>\n",
       "      <td>16.91203</td>\n",
       "      <td>16.67132</td>\n",
       "      <td>0.170503</td>\n",
       "      <td>17.517449</td>\n",
       "    </tr>\n",
       "    <tr>\n",
       "      <th>2</th>\n",
       "      <td>188.31853</td>\n",
       "      <td>65.376352</td>\n",
       "      <td>1237651066816954478</td>\n",
       "      <td>18.63969</td>\n",
       "      <td>19.17344</td>\n",
       "      <td>17.67879</td>\n",
       "      <td>17.21418</td>\n",
       "      <td>16.93519</td>\n",
       "      <td>0.227170</td>\n",
       "      <td>17.822424</td>\n",
       "    </tr>\n",
       "    <tr>\n",
       "      <th>3</th>\n",
       "      <td>188.29554</td>\n",
       "      <td>64.829750</td>\n",
       "      <td>1237651066280083569</td>\n",
       "      <td>19.24593</td>\n",
       "      <td>17.79971</td>\n",
       "      <td>16.91086</td>\n",
       "      <td>16.46142</td>\n",
       "      <td>16.13293</td>\n",
       "      <td>0.095306</td>\n",
       "      <td>19.385534</td>\n",
       "    </tr>\n",
       "    <tr>\n",
       "      <th>4</th>\n",
       "      <td>188.26071</td>\n",
       "      <td>64.819067</td>\n",
       "      <td>1237651066280083552</td>\n",
       "      <td>20.16266</td>\n",
       "      <td>18.69236</td>\n",
       "      <td>17.31744</td>\n",
       "      <td>16.77562</td>\n",
       "      <td>16.43519</td>\n",
       "      <td>0.227261</td>\n",
       "      <td>19.603638</td>\n",
       "    </tr>\n",
       "    <tr>\n",
       "      <th>5</th>\n",
       "      <td>187.22943</td>\n",
       "      <td>65.242676</td>\n",
       "      <td>1237651066816757915</td>\n",
       "      <td>21.05700</td>\n",
       "      <td>18.54712</td>\n",
       "      <td>17.59553</td>\n",
       "      <td>17.09160</td>\n",
       "      <td>16.80515</td>\n",
       "      <td>0.117083</td>\n",
       "      <td>19.816368</td>\n",
       "    </tr>\n",
       "    <tr>\n",
       "      <th>6</th>\n",
       "      <td>188.74100</td>\n",
       "      <td>65.071813</td>\n",
       "      <td>1237654610142691427</td>\n",
       "      <td>18.43365</td>\n",
       "      <td>17.39480</td>\n",
       "      <td>17.05922</td>\n",
       "      <td>16.77725</td>\n",
       "      <td>16.83433</td>\n",
       "      <td>0.039229</td>\n",
       "      <td>19.945657</td>\n",
       "    </tr>\n",
       "    <tr>\n",
       "      <th>7</th>\n",
       "      <td>188.57256</td>\n",
       "      <td>65.063642</td>\n",
       "      <td>1237654610142625917</td>\n",
       "      <td>19.95683</td>\n",
       "      <td>18.03978</td>\n",
       "      <td>17.23287</td>\n",
       "      <td>16.73102</td>\n",
       "      <td>16.48275</td>\n",
       "      <td>0.097020</td>\n",
       "      <td>15.844072</td>\n",
       "    </tr>\n",
       "    <tr>\n",
       "      <th>8</th>\n",
       "      <td>187.77565</td>\n",
       "      <td>65.500959</td>\n",
       "      <td>1237658607148138720</td>\n",
       "      <td>18.40245</td>\n",
       "      <td>17.30496</td>\n",
       "      <td>16.86009</td>\n",
       "      <td>16.58222</td>\n",
       "      <td>16.35085</td>\n",
       "      <td>0.050449</td>\n",
       "      <td>23.318312</td>\n",
       "    </tr>\n",
       "    <tr>\n",
       "      <th>9</th>\n",
       "      <td>187.26827</td>\n",
       "      <td>65.388217</td>\n",
       "      <td>1237658607148073131</td>\n",
       "      <td>18.74887</td>\n",
       "      <td>17.09780</td>\n",
       "      <td>16.41419</td>\n",
       "      <td>15.96890</td>\n",
       "      <td>15.60583</td>\n",
       "      <td>0.050341</td>\n",
       "      <td>23.681454</td>\n",
       "    </tr>\n",
       "    <tr>\n",
       "      <th>10</th>\n",
       "      <td>188.09689</td>\n",
       "      <td>65.074299</td>\n",
       "      <td>1237654610142560376</td>\n",
       "      <td>19.90353</td>\n",
       "      <td>19.51657</td>\n",
       "      <td>19.36880</td>\n",
       "      <td>19.08927</td>\n",
       "      <td>18.99542</td>\n",
       "      <td>0.599228</td>\n",
       "      <td>4.413821</td>\n",
       "    </tr>\n",
       "    <tr>\n",
       "      <th>11</th>\n",
       "      <td>187.84515</td>\n",
       "      <td>65.189332</td>\n",
       "      <td>1237651066816823407</td>\n",
       "      <td>19.60848</td>\n",
       "      <td>18.24629</td>\n",
       "      <td>17.27108</td>\n",
       "      <td>16.84012</td>\n",
       "      <td>16.51307</td>\n",
       "      <td>0.169019</td>\n",
       "      <td>5.067749</td>\n",
       "    </tr>\n",
       "    <tr>\n",
       "      <th>12</th>\n",
       "      <td>187.74611</td>\n",
       "      <td>65.153890</td>\n",
       "      <td>1237658607148007527</td>\n",
       "      <td>19.27432</td>\n",
       "      <td>19.20979</td>\n",
       "      <td>18.93972</td>\n",
       "      <td>18.91623</td>\n",
       "      <td>18.98560</td>\n",
       "      <td>1.375283</td>\n",
       "      <td>5.766302</td>\n",
       "    </tr>\n",
       "    <tr>\n",
       "      <th>13</th>\n",
       "      <td>188.43071</td>\n",
       "      <td>65.219727</td>\n",
       "      <td>1237654876434727154</td>\n",
       "      <td>20.31922</td>\n",
       "      <td>18.65001</td>\n",
       "      <td>17.68160</td>\n",
       "      <td>17.23670</td>\n",
       "      <td>16.81886</td>\n",
       "      <td>0.179129</td>\n",
       "      <td>13.282532</td>\n",
       "    </tr>\n",
       "    <tr>\n",
       "      <th>14</th>\n",
       "      <td>187.65175</td>\n",
       "      <td>64.938456</td>\n",
       "      <td>1237658607147876521</td>\n",
       "      <td>20.24238</td>\n",
       "      <td>19.63741</td>\n",
       "      <td>18.90531</td>\n",
       "      <td>18.58507</td>\n",
       "      <td>18.31663</td>\n",
       "      <td>0.312282</td>\n",
       "      <td>13.404574</td>\n",
       "    </tr>\n",
       "    <tr>\n",
       "      <th>15</th>\n",
       "      <td>187.72275</td>\n",
       "      <td>65.320798</td>\n",
       "      <td>1237658607148073113</td>\n",
       "      <td>20.53733</td>\n",
       "      <td>18.24886</td>\n",
       "      <td>17.17546</td>\n",
       "      <td>16.71310</td>\n",
       "      <td>16.32804</td>\n",
       "      <td>0.127372</td>\n",
       "      <td>13.442956</td>\n",
       "    </tr>\n",
       "    <tr>\n",
       "      <th>16</th>\n",
       "      <td>188.46327</td>\n",
       "      <td>65.042596</td>\n",
       "      <td>1237654610142625815</td>\n",
       "      <td>18.45822</td>\n",
       "      <td>17.26162</td>\n",
       "      <td>16.86135</td>\n",
       "      <td>16.71198</td>\n",
       "      <td>16.70141</td>\n",
       "      <td>-0.000142</td>\n",
       "      <td>13.545738</td>\n",
       "    </tr>\n",
       "    <tr>\n",
       "      <th>17</th>\n",
       "      <td>187.73054</td>\n",
       "      <td>64.915548</td>\n",
       "      <td>1237651066279952418</td>\n",
       "      <td>19.14616</td>\n",
       "      <td>18.89202</td>\n",
       "      <td>18.92047</td>\n",
       "      <td>18.76803</td>\n",
       "      <td>18.90558</td>\n",
       "      <td>1.755768</td>\n",
       "      <td>13.577552</td>\n",
       "    </tr>\n",
       "    <tr>\n",
       "      <th>18</th>\n",
       "      <td>187.78752</td>\n",
       "      <td>64.904277</td>\n",
       "      <td>1237651066279952575</td>\n",
       "      <td>22.13077</td>\n",
       "      <td>19.90211</td>\n",
       "      <td>18.21885</td>\n",
       "      <td>17.61925</td>\n",
       "      <td>17.28695</td>\n",
       "      <td>0.311964</td>\n",
       "      <td>13.662744</td>\n",
       "    </tr>\n",
       "    <tr>\n",
       "      <th>19</th>\n",
       "      <td>187.44048</td>\n",
       "      <td>65.039809</td>\n",
       "      <td>1237654610142429354</td>\n",
       "      <td>19.91772</td>\n",
       "      <td>17.90256</td>\n",
       "      <td>17.01863</td>\n",
       "      <td>16.60547</td>\n",
       "      <td>16.21209</td>\n",
       "      <td>0.079625</td>\n",
       "      <td>13.987548</td>\n",
       "    </tr>\n",
       "    <tr>\n",
       "      <th>20</th>\n",
       "      <td>188.02706</td>\n",
       "      <td>65.226149</td>\n",
       "      <td>1237651066816888940</td>\n",
       "      <td>18.34228</td>\n",
       "      <td>16.66420</td>\n",
       "      <td>15.87437</td>\n",
       "      <td>15.55565</td>\n",
       "      <td>15.38372</td>\n",
       "      <td>0.039006</td>\n",
       "      <td>6.587372</td>\n",
       "    </tr>\n",
       "    <tr>\n",
       "      <th>21</th>\n",
       "      <td>187.30086</td>\n",
       "      <td>64.995348</td>\n",
       "      <td>1237654610142364393</td>\n",
       "      <td>19.84155</td>\n",
       "      <td>20.77356</td>\n",
       "      <td>18.95493</td>\n",
       "      <td>18.47221</td>\n",
       "      <td>18.11841</td>\n",
       "      <td>0.364194</td>\n",
       "      <td>18.278757</td>\n",
       "    </tr>\n",
       "    <tr>\n",
       "      <th>22</th>\n",
       "      <td>188.67528</td>\n",
       "      <td>65.042219</td>\n",
       "      <td>1237654610142626524</td>\n",
       "      <td>22.23139</td>\n",
       "      <td>20.94991</td>\n",
       "      <td>20.35904</td>\n",
       "      <td>20.12067</td>\n",
       "      <td>19.92188</td>\n",
       "      <td>6.488981</td>\n",
       "      <td>18.674846</td>\n",
       "    </tr>\n",
       "    <tr>\n",
       "      <th>23</th>\n",
       "      <td>188.34065</td>\n",
       "      <td>65.390892</td>\n",
       "      <td>1237654610679431357</td>\n",
       "      <td>19.98870</td>\n",
       "      <td>19.26419</td>\n",
       "      <td>17.62037</td>\n",
       "      <td>17.06118</td>\n",
       "      <td>16.80020</td>\n",
       "      <td>0.286919</td>\n",
       "      <td>18.857418</td>\n",
       "    </tr>\n",
       "    <tr>\n",
       "      <th>24</th>\n",
       "      <td>187.57276</td>\n",
       "      <td>64.785431</td>\n",
       "      <td>1237658607147811098</td>\n",
       "      <td>20.05017</td>\n",
       "      <td>20.18888</td>\n",
       "      <td>20.30141</td>\n",
       "      <td>19.91263</td>\n",
       "      <td>19.78687</td>\n",
       "      <td>1.886212</td>\n",
       "      <td>22.356409</td>\n",
       "    </tr>\n",
       "    <tr>\n",
       "      <th>25</th>\n",
       "      <td>188.44482</td>\n",
       "      <td>64.807187</td>\n",
       "      <td>1237651066280083606</td>\n",
       "      <td>19.34624</td>\n",
       "      <td>18.10981</td>\n",
       "      <td>17.26887</td>\n",
       "      <td>16.81816</td>\n",
       "      <td>16.46365</td>\n",
       "      <td>0.133138</td>\n",
       "      <td>22.445924</td>\n",
       "    </tr>\n",
       "    <tr>\n",
       "      <th>26</th>\n",
       "      <td>188.31996</td>\n",
       "      <td>64.777092</td>\n",
       "      <td>1237651066280083584</td>\n",
       "      <td>21.28456</td>\n",
       "      <td>18.95428</td>\n",
       "      <td>17.98857</td>\n",
       "      <td>17.59227</td>\n",
       "      <td>17.38655</td>\n",
       "      <td>0.133087</td>\n",
       "      <td>22.516131</td>\n",
       "    </tr>\n",
       "    <tr>\n",
       "      <th>27</th>\n",
       "      <td>187.33128</td>\n",
       "      <td>65.387911</td>\n",
       "      <td>1237658607148073138</td>\n",
       "      <td>18.90054</td>\n",
       "      <td>17.43878</td>\n",
       "      <td>16.87588</td>\n",
       "      <td>16.55354</td>\n",
       "      <td>16.32430</td>\n",
       "      <td>0.050356</td>\n",
       "      <td>22.532324</td>\n",
       "    </tr>\n",
       "    <tr>\n",
       "      <th>28</th>\n",
       "      <td>188.21092</td>\n",
       "      <td>64.758439</td>\n",
       "      <td>1237651066280083676</td>\n",
       "      <td>21.19381</td>\n",
       "      <td>21.02450</td>\n",
       "      <td>20.38254</td>\n",
       "      <td>19.84981</td>\n",
       "      <td>19.74084</td>\n",
       "      <td>0.609593</td>\n",
       "      <td>22.612484</td>\n",
       "    </tr>\n",
       "    <tr>\n",
       "      <th>29</th>\n",
       "      <td>188.48623</td>\n",
       "      <td>64.831994</td>\n",
       "      <td>1237651066280083514</td>\n",
       "      <td>21.68162</td>\n",
       "      <td>19.07696</td>\n",
       "      <td>17.79814</td>\n",
       "      <td>17.38532</td>\n",
       "      <td>17.06843</td>\n",
       "      <td>0.227568</td>\n",
       "      <td>21.839696</td>\n",
       "    </tr>\n",
       "    <tr>\n",
       "      <th>30</th>\n",
       "      <td>187.82692</td>\n",
       "      <td>64.744464</td>\n",
       "      <td>1237654609605623914</td>\n",
       "      <td>20.06006</td>\n",
       "      <td>18.44534</td>\n",
       "      <td>17.62635</td>\n",
       "      <td>17.36135</td>\n",
       "      <td>17.13486</td>\n",
       "      <td>0.208435</td>\n",
       "      <td>22.784557</td>\n",
       "    </tr>\n",
       "    <tr>\n",
       "      <th>31</th>\n",
       "      <td>187.74301</td>\n",
       "      <td>64.884323</td>\n",
       "      <td>1237651066279952519</td>\n",
       "      <td>20.34647</td>\n",
       "      <td>18.49578</td>\n",
       "      <td>17.31332</td>\n",
       "      <td>16.86558</td>\n",
       "      <td>16.58844</td>\n",
       "      <td>0.171276</td>\n",
       "      <td>15.174777</td>\n",
       "    </tr>\n",
       "    <tr>\n",
       "      <th>32</th>\n",
       "      <td>188.21726</td>\n",
       "      <td>64.790300</td>\n",
       "      <td>1237651066280083530</td>\n",
       "      <td>19.15702</td>\n",
       "      <td>18.05132</td>\n",
       "      <td>17.42701</td>\n",
       "      <td>17.01507</td>\n",
       "      <td>16.78968</td>\n",
       "      <td>0.099386</td>\n",
       "      <td>20.833483</td>\n",
       "    </tr>\n",
       "    <tr>\n",
       "      <th>33</th>\n",
       "      <td>187.62076</td>\n",
       "      <td>64.895884</td>\n",
       "      <td>1237658607147876496</td>\n",
       "      <td>21.95785</td>\n",
       "      <td>20.27065</td>\n",
       "      <td>18.59472</td>\n",
       "      <td>17.94105</td>\n",
       "      <td>17.76945</td>\n",
       "      <td>0.312397</td>\n",
       "      <td>15.963259</td>\n",
       "    </tr>\n",
       "    <tr>\n",
       "      <th>34</th>\n",
       "      <td>187.22793</td>\n",
       "      <td>65.346816</td>\n",
       "      <td>1237651066816757777</td>\n",
       "      <td>22.27562</td>\n",
       "      <td>20.91603</td>\n",
       "      <td>19.20131</td>\n",
       "      <td>18.70689</td>\n",
       "      <td>18.53172</td>\n",
       "      <td>0.376436</td>\n",
       "      <td>22.884421</td>\n",
       "    </tr>\n",
       "    <tr>\n",
       "      <th>35</th>\n",
       "      <td>187.32822</td>\n",
       "      <td>65.047074</td>\n",
       "      <td>1237654610142429319</td>\n",
       "      <td>19.78215</td>\n",
       "      <td>19.48573</td>\n",
       "      <td>19.00995</td>\n",
       "      <td>18.59468</td>\n",
       "      <td>18.39454</td>\n",
       "      <td>2.137381</td>\n",
       "      <td>16.558935</td>\n",
       "    </tr>\n",
       "    <tr>\n",
       "      <th>36</th>\n",
       "      <td>187.53827</td>\n",
       "      <td>65.321176</td>\n",
       "      <td>1237658607148073106</td>\n",
       "      <td>18.57837</td>\n",
       "      <td>17.05551</td>\n",
       "      <td>16.18663</td>\n",
       "      <td>15.74540</td>\n",
       "      <td>15.36976</td>\n",
       "      <td>0.038614</td>\n",
       "      <td>16.068457</td>\n",
       "    </tr>\n",
       "    <tr>\n",
       "      <th>37</th>\n",
       "      <td>187.43509</td>\n",
       "      <td>65.276731</td>\n",
       "      <td>1237658607148007557</td>\n",
       "      <td>19.71101</td>\n",
       "      <td>18.17352</td>\n",
       "      <td>17.47259</td>\n",
       "      <td>17.05515</td>\n",
       "      <td>16.83064</td>\n",
       "      <td>0.116459</td>\n",
       "      <td>16.216598</td>\n",
       "    </tr>\n",
       "    <tr>\n",
       "      <th>38</th>\n",
       "      <td>187.59224</td>\n",
       "      <td>65.253936</td>\n",
       "      <td>1237658607148007552</td>\n",
       "      <td>18.69905</td>\n",
       "      <td>17.88640</td>\n",
       "      <td>16.90850</td>\n",
       "      <td>16.43517</td>\n",
       "      <td>16.11517</td>\n",
       "      <td>0.126762</td>\n",
       "      <td>12.260787</td>\n",
       "    </tr>\n",
       "    <tr>\n",
       "      <th>39</th>\n",
       "      <td>187.27344</td>\n",
       "      <td>65.367905</td>\n",
       "      <td>1237658607148073127</td>\n",
       "      <td>18.86022</td>\n",
       "      <td>17.36610</td>\n",
       "      <td>16.67717</td>\n",
       "      <td>16.34196</td>\n",
       "      <td>16.07875</td>\n",
       "      <td>0.050060</td>\n",
       "      <td>22.777374</td>\n",
       "    </tr>\n",
       "    <tr>\n",
       "      <th>40</th>\n",
       "      <td>187.24354</td>\n",
       "      <td>65.327835</td>\n",
       "      <td>1237651066816757846</td>\n",
       "      <td>18.64227</td>\n",
       "      <td>17.51056</td>\n",
       "      <td>16.84445</td>\n",
       "      <td>16.44562</td>\n",
       "      <td>16.26140</td>\n",
       "      <td>0.082040</td>\n",
       "      <td>21.908458</td>\n",
       "    </tr>\n",
       "    <tr>\n",
       "      <th>41</th>\n",
       "      <td>187.30825</td>\n",
       "      <td>65.323188</td>\n",
       "      <td>1237658607148073193</td>\n",
       "      <td>18.63550</td>\n",
       "      <td>17.57249</td>\n",
       "      <td>17.18055</td>\n",
       "      <td>16.91200</td>\n",
       "      <td>16.78778</td>\n",
       "      <td>0.038760</td>\n",
       "      <td>20.429321</td>\n",
       "    </tr>\n",
       "    <tr>\n",
       "      <th>42</th>\n",
       "      <td>188.03408</td>\n",
       "      <td>65.013897</td>\n",
       "      <td>1237654610142560363</td>\n",
       "      <td>20.79463</td>\n",
       "      <td>18.84592</td>\n",
       "      <td>17.76556</td>\n",
       "      <td>17.34575</td>\n",
       "      <td>17.08260</td>\n",
       "      <td>0.175064</td>\n",
       "      <td>6.635639</td>\n",
       "    </tr>\n",
       "    <tr>\n",
       "      <th>43</th>\n",
       "      <td>187.64146</td>\n",
       "      <td>65.025024</td>\n",
       "      <td>1237654610142429449</td>\n",
       "      <td>19.55649</td>\n",
       "      <td>19.35570</td>\n",
       "      <td>17.81656</td>\n",
       "      <td>17.28698</td>\n",
       "      <td>17.21862</td>\n",
       "      <td>0.234868</td>\n",
       "      <td>9.867921</td>\n",
       "    </tr>\n",
       "    <tr>\n",
       "      <th>44</th>\n",
       "      <td>187.69314</td>\n",
       "      <td>65.101950</td>\n",
       "      <td>1237654610142494728</td>\n",
       "      <td>17.74011</td>\n",
       "      <td>17.48704</td>\n",
       "      <td>17.58177</td>\n",
       "      <td>17.48199</td>\n",
       "      <td>17.44792</td>\n",
       "      <td>0.476712</td>\n",
       "      <td>6.825529</td>\n",
       "    </tr>\n",
       "    <tr>\n",
       "      <th>45</th>\n",
       "      <td>187.81796</td>\n",
       "      <td>65.386737</td>\n",
       "      <td>1237651066816823403</td>\n",
       "      <td>20.03152</td>\n",
       "      <td>18.25170</td>\n",
       "      <td>17.33683</td>\n",
       "      <td>16.93546</td>\n",
       "      <td>16.68128</td>\n",
       "      <td>0.126656</td>\n",
       "      <td>16.396131</td>\n",
       "    </tr>\n",
       "    <tr>\n",
       "      <th>46</th>\n",
       "      <td>188.54901</td>\n",
       "      <td>65.189955</td>\n",
       "      <td>1237654876434727164</td>\n",
       "      <td>18.73828</td>\n",
       "      <td>17.86767</td>\n",
       "      <td>17.02953</td>\n",
       "      <td>16.53784</td>\n",
       "      <td>16.24601</td>\n",
       "      <td>0.095898</td>\n",
       "      <td>15.430834</td>\n",
       "    </tr>\n",
       "    <tr>\n",
       "      <th>47</th>\n",
       "      <td>188.42693</td>\n",
       "      <td>65.408131</td>\n",
       "      <td>1237654610679496784</td>\n",
       "      <td>19.17769</td>\n",
       "      <td>18.02392</td>\n",
       "      <td>17.26988</td>\n",
       "      <td>16.85787</td>\n",
       "      <td>16.55080</td>\n",
       "      <td>0.173498</td>\n",
       "      <td>20.888567</td>\n",
       "    </tr>\n",
       "    <tr>\n",
       "      <th>48</th>\n",
       "      <td>188.18447</td>\n",
       "      <td>65.488426</td>\n",
       "      <td>1237654610679431277</td>\n",
       "      <td>18.58207</td>\n",
       "      <td>17.58724</td>\n",
       "      <td>17.22183</td>\n",
       "      <td>16.86470</td>\n",
       "      <td>16.77513</td>\n",
       "      <td>0.097312</td>\n",
       "      <td>22.811522</td>\n",
       "    </tr>\n",
       "    <tr>\n",
       "      <th>49</th>\n",
       "      <td>188.18592</td>\n",
       "      <td>65.265589</td>\n",
       "      <td>1237651066816888988</td>\n",
       "      <td>18.07215</td>\n",
       "      <td>16.81439</td>\n",
       "      <td>16.03749</td>\n",
       "      <td>15.59703</td>\n",
       "      <td>15.25660</td>\n",
       "      <td>0.039281</td>\n",
       "      <td>10.422939</td>\n",
       "    </tr>\n",
       "    <tr>\n",
       "      <th>50</th>\n",
       "      <td>188.09394</td>\n",
       "      <td>65.009945</td>\n",
       "      <td>1237654610142560284</td>\n",
       "      <td>18.29275</td>\n",
       "      <td>18.16050</td>\n",
       "      <td>18.17654</td>\n",
       "      <td>17.96823</td>\n",
       "      <td>18.04328</td>\n",
       "      <td>1.690882</td>\n",
       "      <td>7.420913</td>\n",
       "    </tr>\n",
       "    <tr>\n",
       "      <th>51</th>\n",
       "      <td>188.54319</td>\n",
       "      <td>65.205238</td>\n",
       "      <td>1237654876434727120</td>\n",
       "      <td>20.43596</td>\n",
       "      <td>19.53370</td>\n",
       "      <td>19.18025</td>\n",
       "      <td>18.77355</td>\n",
       "      <td>18.42467</td>\n",
       "      <td>0.000034</td>\n",
       "      <td>15.562305</td>\n",
       "    </tr>\n",
       "    <tr>\n",
       "      <th>52</th>\n",
       "      <td>188.40735</td>\n",
       "      <td>65.157661</td>\n",
       "      <td>1237654610142625875</td>\n",
       "      <td>19.16335</td>\n",
       "      <td>18.61458</td>\n",
       "      <td>17.63046</td>\n",
       "      <td>17.06110</td>\n",
       "      <td>16.67974</td>\n",
       "      <td>0.145441</td>\n",
       "      <td>11.508211</td>\n",
       "    </tr>\n",
       "    <tr>\n",
       "      <th>53</th>\n",
       "      <td>188.28146</td>\n",
       "      <td>65.104871</td>\n",
       "      <td>1237654610142560418</td>\n",
       "      <td>19.90412</td>\n",
       "      <td>19.59860</td>\n",
       "      <td>19.35779</td>\n",
       "      <td>18.78115</td>\n",
       "      <td>18.44091</td>\n",
       "      <td>0.478056</td>\n",
       "      <td>8.168393</td>\n",
       "    </tr>\n",
       "    <tr>\n",
       "      <th>54</th>\n",
       "      <td>188.78537</td>\n",
       "      <td>65.197088</td>\n",
       "      <td>1237654876434792534</td>\n",
       "      <td>19.11175</td>\n",
       "      <td>18.81025</td>\n",
       "      <td>18.73336</td>\n",
       "      <td>18.69747</td>\n",
       "      <td>18.57516</td>\n",
       "      <td>2.193598</td>\n",
       "      <td>21.312325</td>\n",
       "    </tr>\n",
       "    <tr>\n",
       "      <th>55</th>\n",
       "      <td>188.63217</td>\n",
       "      <td>64.932372</td>\n",
       "      <td>1237651066280149087</td>\n",
       "      <td>20.47395</td>\n",
       "      <td>19.18616</td>\n",
       "      <td>19.00021</td>\n",
       "      <td>18.93461</td>\n",
       "      <td>18.90271</td>\n",
       "      <td>3.032102</td>\n",
       "      <td>20.412522</td>\n",
       "    </tr>\n",
       "  </tbody>\n",
       "</table>\n",
       "</div>"
      ],
      "text/plain": [
       "           ra        dec                objID  cModelMag_u  cModelMag_g  \\\n",
       "0   188.49659  64.937189  1237651066280083645     22.07714     19.20137   \n",
       "1   187.68386  64.852455  1237658607147876438     20.16566     18.30428   \n",
       "2   188.31853  65.376352  1237651066816954478     18.63969     19.17344   \n",
       "3   188.29554  64.829750  1237651066280083569     19.24593     17.79971   \n",
       "4   188.26071  64.819067  1237651066280083552     20.16266     18.69236   \n",
       "5   187.22943  65.242676  1237651066816757915     21.05700     18.54712   \n",
       "6   188.74100  65.071813  1237654610142691427     18.43365     17.39480   \n",
       "7   188.57256  65.063642  1237654610142625917     19.95683     18.03978   \n",
       "8   187.77565  65.500959  1237658607148138720     18.40245     17.30496   \n",
       "9   187.26827  65.388217  1237658607148073131     18.74887     17.09780   \n",
       "10  188.09689  65.074299  1237654610142560376     19.90353     19.51657   \n",
       "11  187.84515  65.189332  1237651066816823407     19.60848     18.24629   \n",
       "12  187.74611  65.153890  1237658607148007527     19.27432     19.20979   \n",
       "13  188.43071  65.219727  1237654876434727154     20.31922     18.65001   \n",
       "14  187.65175  64.938456  1237658607147876521     20.24238     19.63741   \n",
       "15  187.72275  65.320798  1237658607148073113     20.53733     18.24886   \n",
       "16  188.46327  65.042596  1237654610142625815     18.45822     17.26162   \n",
       "17  187.73054  64.915548  1237651066279952418     19.14616     18.89202   \n",
       "18  187.78752  64.904277  1237651066279952575     22.13077     19.90211   \n",
       "19  187.44048  65.039809  1237654610142429354     19.91772     17.90256   \n",
       "20  188.02706  65.226149  1237651066816888940     18.34228     16.66420   \n",
       "21  187.30086  64.995348  1237654610142364393     19.84155     20.77356   \n",
       "22  188.67528  65.042219  1237654610142626524     22.23139     20.94991   \n",
       "23  188.34065  65.390892  1237654610679431357     19.98870     19.26419   \n",
       "24  187.57276  64.785431  1237658607147811098     20.05017     20.18888   \n",
       "25  188.44482  64.807187  1237651066280083606     19.34624     18.10981   \n",
       "26  188.31996  64.777092  1237651066280083584     21.28456     18.95428   \n",
       "27  187.33128  65.387911  1237658607148073138     18.90054     17.43878   \n",
       "28  188.21092  64.758439  1237651066280083676     21.19381     21.02450   \n",
       "29  188.48623  64.831994  1237651066280083514     21.68162     19.07696   \n",
       "30  187.82692  64.744464  1237654609605623914     20.06006     18.44534   \n",
       "31  187.74301  64.884323  1237651066279952519     20.34647     18.49578   \n",
       "32  188.21726  64.790300  1237651066280083530     19.15702     18.05132   \n",
       "33  187.62076  64.895884  1237658607147876496     21.95785     20.27065   \n",
       "34  187.22793  65.346816  1237651066816757777     22.27562     20.91603   \n",
       "35  187.32822  65.047074  1237654610142429319     19.78215     19.48573   \n",
       "36  187.53827  65.321176  1237658607148073106     18.57837     17.05551   \n",
       "37  187.43509  65.276731  1237658607148007557     19.71101     18.17352   \n",
       "38  187.59224  65.253936  1237658607148007552     18.69905     17.88640   \n",
       "39  187.27344  65.367905  1237658607148073127     18.86022     17.36610   \n",
       "40  187.24354  65.327835  1237651066816757846     18.64227     17.51056   \n",
       "41  187.30825  65.323188  1237658607148073193     18.63550     17.57249   \n",
       "42  188.03408  65.013897  1237654610142560363     20.79463     18.84592   \n",
       "43  187.64146  65.025024  1237654610142429449     19.55649     19.35570   \n",
       "44  187.69314  65.101950  1237654610142494728     17.74011     17.48704   \n",
       "45  187.81796  65.386737  1237651066816823403     20.03152     18.25170   \n",
       "46  188.54901  65.189955  1237654876434727164     18.73828     17.86767   \n",
       "47  188.42693  65.408131  1237654610679496784     19.17769     18.02392   \n",
       "48  188.18447  65.488426  1237654610679431277     18.58207     17.58724   \n",
       "49  188.18592  65.265589  1237651066816888988     18.07215     16.81439   \n",
       "50  188.09394  65.009945  1237654610142560284     18.29275     18.16050   \n",
       "51  188.54319  65.205238  1237654876434727120     20.43596     19.53370   \n",
       "52  188.40735  65.157661  1237654610142625875     19.16335     18.61458   \n",
       "53  188.28146  65.104871  1237654610142560418     19.90412     19.59860   \n",
       "54  188.78537  65.197088  1237654876434792534     19.11175     18.81025   \n",
       "55  188.63217  64.932372  1237651066280149087     20.47395     19.18616   \n",
       "\n",
       "    cModelMag_r  cModelMag_i  cModelMag_z         z   distance  \n",
       "0      17.70338     17.20188     16.81002  0.238143  17.465759  \n",
       "1      17.30787     16.91203     16.67132  0.170503  17.517449  \n",
       "2      17.67879     17.21418     16.93519  0.227170  17.822424  \n",
       "3      16.91086     16.46142     16.13293  0.095306  19.385534  \n",
       "4      17.31744     16.77562     16.43519  0.227261  19.603638  \n",
       "5      17.59553     17.09160     16.80515  0.117083  19.816368  \n",
       "6      17.05922     16.77725     16.83433  0.039229  19.945657  \n",
       "7      17.23287     16.73102     16.48275  0.097020  15.844072  \n",
       "8      16.86009     16.58222     16.35085  0.050449  23.318312  \n",
       "9      16.41419     15.96890     15.60583  0.050341  23.681454  \n",
       "10     19.36880     19.08927     18.99542  0.599228   4.413821  \n",
       "11     17.27108     16.84012     16.51307  0.169019   5.067749  \n",
       "12     18.93972     18.91623     18.98560  1.375283   5.766302  \n",
       "13     17.68160     17.23670     16.81886  0.179129  13.282532  \n",
       "14     18.90531     18.58507     18.31663  0.312282  13.404574  \n",
       "15     17.17546     16.71310     16.32804  0.127372  13.442956  \n",
       "16     16.86135     16.71198     16.70141 -0.000142  13.545738  \n",
       "17     18.92047     18.76803     18.90558  1.755768  13.577552  \n",
       "18     18.21885     17.61925     17.28695  0.311964  13.662744  \n",
       "19     17.01863     16.60547     16.21209  0.079625  13.987548  \n",
       "20     15.87437     15.55565     15.38372  0.039006   6.587372  \n",
       "21     18.95493     18.47221     18.11841  0.364194  18.278757  \n",
       "22     20.35904     20.12067     19.92188  6.488981  18.674846  \n",
       "23     17.62037     17.06118     16.80020  0.286919  18.857418  \n",
       "24     20.30141     19.91263     19.78687  1.886212  22.356409  \n",
       "25     17.26887     16.81816     16.46365  0.133138  22.445924  \n",
       "26     17.98857     17.59227     17.38655  0.133087  22.516131  \n",
       "27     16.87588     16.55354     16.32430  0.050356  22.532324  \n",
       "28     20.38254     19.84981     19.74084  0.609593  22.612484  \n",
       "29     17.79814     17.38532     17.06843  0.227568  21.839696  \n",
       "30     17.62635     17.36135     17.13486  0.208435  22.784557  \n",
       "31     17.31332     16.86558     16.58844  0.171276  15.174777  \n",
       "32     17.42701     17.01507     16.78968  0.099386  20.833483  \n",
       "33     18.59472     17.94105     17.76945  0.312397  15.963259  \n",
       "34     19.20131     18.70689     18.53172  0.376436  22.884421  \n",
       "35     19.00995     18.59468     18.39454  2.137381  16.558935  \n",
       "36     16.18663     15.74540     15.36976  0.038614  16.068457  \n",
       "37     17.47259     17.05515     16.83064  0.116459  16.216598  \n",
       "38     16.90850     16.43517     16.11517  0.126762  12.260787  \n",
       "39     16.67717     16.34196     16.07875  0.050060  22.777374  \n",
       "40     16.84445     16.44562     16.26140  0.082040  21.908458  \n",
       "41     17.18055     16.91200     16.78778  0.038760  20.429321  \n",
       "42     17.76556     17.34575     17.08260  0.175064   6.635639  \n",
       "43     17.81656     17.28698     17.21862  0.234868   9.867921  \n",
       "44     17.58177     17.48199     17.44792  0.476712   6.825529  \n",
       "45     17.33683     16.93546     16.68128  0.126656  16.396131  \n",
       "46     17.02953     16.53784     16.24601  0.095898  15.430834  \n",
       "47     17.26988     16.85787     16.55080  0.173498  20.888567  \n",
       "48     17.22183     16.86470     16.77513  0.097312  22.811522  \n",
       "49     16.03749     15.59703     15.25660  0.039281  10.422939  \n",
       "50     18.17654     17.96823     18.04328  1.690882   7.420913  \n",
       "51     19.18025     18.77355     18.42467  0.000034  15.562305  \n",
       "52     17.63046     17.06110     16.67974  0.145441  11.508211  \n",
       "53     19.35779     18.78115     18.44091  0.478056   8.168393  \n",
       "54     18.73336     18.69747     18.57516  2.193598  21.312325  \n",
       "55     19.00021     18.93461     18.90271  3.032102  20.412522  "
      ]
     },
     "execution_count": 47,
     "metadata": {},
     "output_type": "execute_result"
    }
   ],
   "source": [
    "sdss_df"
   ]
  },
  {
   "cell_type": "markdown",
   "metadata": {},
   "source": [
    "Notice how it automatically populates the column names? It also would deal with missing data without intervention. \n",
    "\n",
    "And, as always, it's really easy to save your data out to a bunch of different formats:"
   ]
  },
  {
   "cell_type": "code",
   "execution_count": 49,
   "metadata": {},
   "outputs": [],
   "source": [
    "# To a CSV\n",
    "df1.to_csv(\"pd_df1.csv\")\n",
    "\n",
    "# How about to HTML?\n",
    "df1.to_html(\"pd_df1.html\")\n",
    "\n",
    "# Or maybe even Excel?\n",
    "# df1.to_excel(\"pd_df1.xlsx\")"
   ]
  },
  {
   "cell_type": "markdown",
   "metadata": {},
   "source": [
    "**Note:** If the last line doesn't work, make sure you have the `openpyxl` package installed via pip "
   ]
  },
  {
   "cell_type": "markdown",
   "metadata": {},
   "source": [
    "### Exercises\n",
    "1. Save the IPAC table you created earlier from the Astropy Table section and save it as a CSV. \n",
    "2. Read it in as a Pandas Data Frame, and make a new column that is the distance of each object from the first object in the table (remember that these are celestial coordinates, and not simple Euclidean coordinates).  \n",
    "3. Save the new dataframe as an Excel file"
   ]
  },
  {
   "cell_type": "code",
   "execution_count": 50,
   "metadata": {},
   "outputs": [
    {
     "data": {
      "text/html": [
       "<i>Table length=15</i>\n",
       "<table id=\"table140406451431648\" class=\"table-striped table-bordered table-condensed\">\n",
       "<thead><tr><th>designation</th><th>ra</th><th>dec</th><th>sigra</th><th>sigdec</th><th>sigradec</th><th>w1mpro</th><th>w1sigmpro</th><th>w1snr</th><th>w1rchi2</th><th>w2mpro</th><th>w2sigmpro</th><th>w2snr</th><th>w2rchi2</th><th>w3mpro</th><th>w3sigmpro</th><th>w3snr</th><th>w3rchi2</th><th>w4mpro</th><th>w4sigmpro</th><th>w4snr</th><th>w4rchi2</th><th>nb</th><th>na</th><th>w1sat</th><th>w2sat</th><th>w3sat</th><th>w4sat</th><th>cc_flags</th><th>ext_flg</th><th>var_flg</th><th>moon_lev</th><th>w1nm</th><th>w1m</th><th>w2nm</th><th>w2m</th><th>w3nm</th><th>w3m</th><th>w4nm</th><th>w4m</th><th>tmass_key</th><th>j_m_2mass</th><th>j_msig_2mass</th><th>h_m_2mass</th><th>h_msig_2mass</th><th>k_m_2mass</th><th>k_msig_2mass</th><th>dist</th><th>angle</th></tr></thead>\n",
       "<thead><tr><th></th><th>deg</th><th>deg</th><th>arcsec</th><th>arcsec</th><th>arcsec</th><th>mag</th><th>mag</th><th></th><th></th><th>mag</th><th>mag</th><th></th><th></th><th>mag</th><th>mag</th><th></th><th></th><th>mag</th><th>mag</th><th></th><th></th><th></th><th></th><th></th><th></th><th></th><th></th><th></th><th></th><th></th><th></th><th></th><th></th><th></th><th></th><th></th><th></th><th></th><th></th><th></th><th>mag</th><th>mag</th><th>mag</th><th>mag</th><th>mag</th><th>mag</th><th>arcsec</th><th>deg</th></tr></thead>\n",
       "<thead><tr><th>str19</th><th>float64</th><th>float64</th><th>float64</th><th>float64</th><th>float64</th><th>float64</th><th>float64</th><th>float64</th><th>float64</th><th>float64</th><th>float64</th><th>float64</th><th>float64</th><th>float64</th><th>float64</th><th>float64</th><th>float64</th><th>float64</th><th>float64</th><th>float64</th><th>float64</th><th>int64</th><th>int64</th><th>float64</th><th>float64</th><th>float64</th><th>float64</th><th>str4</th><th>int64</th><th>str4</th><th>str4</th><th>int64</th><th>int64</th><th>int64</th><th>int64</th><th>int64</th><th>int64</th><th>int64</th><th>int64</th><th>int64</th><th>float64</th><th>float64</th><th>float64</th><th>float64</th><th>float64</th><th>float64</th><th>float64</th><th>float64</th></tr></thead>\n",
       "<tr><td>J053516.09-052256.4</td><td>83.8170429</td><td>-5.3823382</td><td>0.1377</td><td>0.1267</td><td>-0.0916</td><td>0.916</td><td>0.007</td><td>158.6</td><td>40.78</td><td>-0.272</td><td>0.006</td><td>192.4</td><td>145.3</td><td>--</td><td>--</td><td>--</td><td>--</td><td>--</td><td>--</td><td>--</td><td>--</td><td>1</td><td>0</td><td>0.363</td><td>0.386</td><td>--</td><td>--</td><td>hh00</td><td>3</td><td>nnnn</td><td>0000</td><td>14</td><td>14</td><td>14</td><td>14</td><td>--</td><td>--</td><td>--</td><td>--</td><td>--</td><td>--</td><td>--</td><td>--</td><td>--</td><td>--</td><td>--</td><td>36.374759</td><td>330.243077</td></tr>\n",
       "<tr><td>J053515.80-052249.7</td><td>83.8158442</td><td>-5.3804979</td><td>0.0166</td><td>0.036</td><td>0.0173</td><td>1.089</td><td>0.004</td><td>256.9</td><td>94.62</td><td>6.233</td><td>--</td><td>-439.6</td><td>248.8</td><td>--</td><td>--</td><td>--</td><td>--</td><td>--</td><td>--</td><td>--</td><td>--</td><td>1</td><td>0</td><td>0.361</td><td>0.385</td><td>--</td><td>--</td><td>dD00</td><td>3</td><td>nnnn</td><td>0000</td><td>14</td><td>14</td><td>11</td><td>11</td><td>--</td><td>--</td><td>--</td><td>--</td><td>--</td><td>--</td><td>--</td><td>--</td><td>--</td><td>--</td><td>--</td><td>44.260792</td><td>329.671301</td></tr>\n",
       "<tr><td>J053523.93-052407.4</td><td>83.8497446</td><td>-5.4020611</td><td>0.055</td><td>0.0558</td><td>-0.0065</td><td>7.729</td><td>0.026</td><td>41.4</td><td>167.3</td><td>6.757</td><td>0.033</td><td>32.6</td><td>55.3</td><td>-0.143</td><td>--</td><td>-8.1</td><td>6.223</td><td>--</td><td>--</td><td>--</td><td>--</td><td>1</td><td>0</td><td>0.0</td><td>0.0</td><td>0.998</td><td>--</td><td>dd00</td><td>3</td><td>99nn</td><td>0000</td><td>13</td><td>13</td><td>13</td><td>13</td><td>0</td><td>0</td><td>--</td><td>--</td><td>--</td><td>--</td><td>--</td><td>--</td><td>--</td><td>--</td><td>--</td><td>106.701563</td><td>111.684804</td></tr>\n",
       "<tr><td>J053519.16-052512.4</td><td>83.8298405</td><td>-5.4201317</td><td>0.0485</td><td>0.0434</td><td>0.0167</td><td>6.494</td><td>0.043</td><td>25.0</td><td>1066.0</td><td>5.727</td><td>0.017</td><td>63.3</td><td>443.9</td><td>--</td><td>--</td><td>--</td><td>--</td><td>--</td><td>--</td><td>--</td><td>--</td><td>1</td><td>0</td><td>0.848</td><td>0.019</td><td>--</td><td>--</td><td>dd00</td><td>3</td><td>99nn</td><td>0000</td><td>8</td><td>8</td><td>13</td><td>13</td><td>--</td><td>--</td><td>--</td><td>--</td><td>--</td><td>--</td><td>--</td><td>--</td><td>--</td><td>--</td><td>--</td><td>108.116971</td><td>165.093157</td></tr>\n",
       "<tr><td>J053515.55-052514.4</td><td>83.8148233</td><td>-5.4206672</td><td>0.063</td><td>0.0766</td><td>-0.0039</td><td>7.396</td><td>0.039</td><td>27.6</td><td>19.47</td><td>6.836</td><td>0.033</td><td>33.2</td><td>28.48</td><td>--</td><td>--</td><td>--</td><td>--</td><td>--</td><td>--</td><td>--</td><td>--</td><td>1</td><td>0</td><td>0.103</td><td>0.0</td><td>--</td><td>--</td><td>hh00</td><td>3</td><td>99nn</td><td>0000</td><td>14</td><td>14</td><td>14</td><td>14</td><td>--</td><td>--</td><td>--</td><td>--</td><td>1194807809</td><td>10.02</td><td>0.033</td><td>9.047</td><td>0.038</td><td>8.732</td><td>0.033</td><td>109.538231</td><td>193.734703</td></tr>\n",
       "<tr><td>J053520.29-052508.2</td><td>83.8345716</td><td>-5.4189516</td><td>0.0848</td><td>0.0824</td><td>0.0366</td><td>5.901</td><td>0.163</td><td>6.6</td><td>44.06</td><td>5.314</td><td>0.034</td><td>31.6</td><td>62.08</td><td>--</td><td>--</td><td>--</td><td>--</td><td>--</td><td>--</td><td>--</td><td>--</td><td>1</td><td>0</td><td>0.918</td><td>0.424</td><td>--</td><td>--</td><td>hh0D</td><td>3</td><td>n9nn</td><td>0000</td><td>2</td><td>12</td><td>12</td><td>13</td><td>--</td><td>--</td><td>--</td><td>--</td><td>--</td><td>--</td><td>--</td><td>--</td><td>--</td><td>--</td><td>--</td><td>109.774104</td><td>155.931618</td></tr>\n",
       "<tr><td>J053518.52-052517.5</td><td>83.8271748</td><td>-5.4215396</td><td>0.0611</td><td>0.0547</td><td>0.0099</td><td>5.622</td><td>0.073</td><td>14.9</td><td>56.02</td><td>5.654</td><td>0.022</td><td>48.4</td><td>91.39</td><td>--</td><td>--</td><td>--</td><td>--</td><td>--</td><td>--</td><td>--</td><td>--</td><td>1</td><td>0</td><td>0.781</td><td>0.003</td><td>--</td><td>--</td><td>hh00</td><td>3</td><td>99nn</td><td>0000</td><td>8</td><td>13</td><td>13</td><td>13</td><td>--</td><td>--</td><td>--</td><td>--</td><td>1194807840</td><td>12.716</td><td>--</td><td>13.74</td><td>0.074</td><td>13.523</td><td>0.111</td><td>111.057959</td><td>170.536935</td></tr>\n",
       "<tr><td>J053522.23-052451.9</td><td>83.8426547</td><td>-5.4144261</td><td>0.1779</td><td>0.1842</td><td>-0.0904</td><td>7.046</td><td>0.097</td><td>11.2</td><td>112.1</td><td>--</td><td>--</td><td>--</td><td>--</td><td>--</td><td>--</td><td>--</td><td>--</td><td>--</td><td>--</td><td>--</td><td>--</td><td>1</td><td>0</td><td>0.947</td><td>--</td><td>--</td><td>--</td><td>h000</td><td>3</td><td>nnnn</td><td>0000</td><td>5</td><td>9</td><td>--</td><td>--</td><td>--</td><td>--</td><td>--</td><td>--</td><td>--</td><td>--</td><td>--</td><td>--</td><td>--</td><td>--</td><td>--</td><td>111.728109</td><td>138.701522</td></tr>\n",
       "<tr><td>J053521.46-052501.5</td><td>83.839432</td><td>-5.417085</td><td>0.0917</td><td>0.118</td><td>-0.033</td><td>7.421</td><td>0.066</td><td>16.6</td><td>42.02</td><td>6.232</td><td>0.04</td><td>27.0</td><td>72.47</td><td>--</td><td>--</td><td>--</td><td>--</td><td>--</td><td>--</td><td>--</td><td>--</td><td>1</td><td>0</td><td>0.708</td><td>0.469</td><td>--</td><td>--</td><td>dd00</td><td>3</td><td>99nn</td><td>0000</td><td>10</td><td>13</td><td>13</td><td>13</td><td>--</td><td>--</td><td>--</td><td>--</td><td>--</td><td>--</td><td>--</td><td>--</td><td>--</td><td>--</td><td>--</td><td>112.301729</td><td>146.374617</td></tr>\n",
       "<tr><td>J053523.07-052439.8</td><td>83.8461625</td><td>-5.4110794</td><td>0.0633</td><td>0.0633</td><td>0.0274</td><td>6.82</td><td>0.047</td><td>23.3</td><td>114.3</td><td>5.917</td><td>0.027</td><td>40.6</td><td>101.1</td><td>1.266</td><td>--</td><td>-22.9</td><td>40.97</td><td>--</td><td>--</td><td>--</td><td>--</td><td>1</td><td>0</td><td>0.682</td><td>0.361</td><td>0.999</td><td>--</td><td>dd00</td><td>3</td><td>94nn</td><td>0000</td><td>13</td><td>13</td><td>13</td><td>13</td><td>0</td><td>0</td><td>--</td><td>--</td><td>--</td><td>--</td><td>--</td><td>--</td><td>--</td><td>--</td><td>--</td><td>112.329648</td><td>129.792248</td></tr>\n",
       "<tr><td>J053523.79-052426.1</td><td>83.8491315</td><td>-5.4072683</td><td>0.0482</td><td>0.0445</td><td>0.0144</td><td>6.449</td><td>0.031</td><td>35.2</td><td>143.1</td><td>5.843</td><td>0.023</td><td>47.3</td><td>96.69</td><td>1.315</td><td>--</td><td>-23.5</td><td>53.43</td><td>--</td><td>--</td><td>--</td><td>--</td><td>1</td><td>0</td><td>0.405</td><td>0.037</td><td>0.998</td><td>--</td><td>dd00</td><td>3</td><td>92nn</td><td>0000</td><td>13</td><td>13</td><td>13</td><td>13</td><td>0</td><td>0</td><td>--</td><td>--</td><td>--</td><td>--</td><td>--</td><td>--</td><td>--</td><td>--</td><td>--</td><td>113.065079</td><td>120.964108</td></tr>\n",
       "<tr><td>J053516.82-052521.3</td><td>83.8200991</td><td>-5.4226055</td><td>0.0565</td><td>0.0579</td><td>-0.0098</td><td>7.618</td><td>0.03</td><td>36.1</td><td>74.09</td><td>6.68</td><td>0.029</td><td>37.8</td><td>52.83</td><td>--</td><td>--</td><td>--</td><td>--</td><td>--</td><td>--</td><td>--</td><td>--</td><td>1</td><td>0</td><td>0.0</td><td>0.0</td><td>--</td><td>--</td><td>hh00</td><td>3</td><td>99nn</td><td>0000</td><td>14</td><td>14</td><td>14</td><td>14</td><td>--</td><td>--</td><td>--</td><td>--</td><td>1194807839</td><td>12.07</td><td>--</td><td>14.202</td><td>0.103</td><td>13.228</td><td>0.091</td><td>113.60584</td><td>183.582797</td></tr>\n",
       "<tr><td>J053514.81-052517.9</td><td>83.8117253</td><td>-5.4216475</td><td>0.0703</td><td>0.0766</td><td>-0.008</td><td>8.129</td><td>0.028</td><td>39.3</td><td>118.0</td><td>7.655</td><td>0.079</td><td>13.7</td><td>5.55</td><td>--</td><td>--</td><td>--</td><td>--</td><td>--</td><td>--</td><td>--</td><td>--</td><td>1</td><td>0</td><td>0.0</td><td>0.0</td><td>--</td><td>--</td><td>hh00</td><td>3</td><td>99nn</td><td>0000</td><td>13</td><td>14</td><td>8</td><td>14</td><td>--</td><td>--</td><td>--</td><td>--</td><td>--</td><td>--</td><td>--</td><td>--</td><td>--</td><td>--</td><td>--</td><td>116.02985</td><td>198.652808</td></tr>\n",
       "<tr><td>J053514.22-052516.5</td><td>83.8092905</td><td>-5.4212504</td><td>0.087</td><td>0.0994</td><td>0.0049</td><td>8.719</td><td>0.044</td><td>24.6</td><td>21.07</td><td>7.424</td><td>0.039</td><td>28.1</td><td>26.03</td><td>-4.284</td><td>--</td><td>0.1</td><td>0.009604</td><td>--</td><td>--</td><td>--</td><td>--</td><td>1</td><td>0</td><td>0.0</td><td>0.0</td><td>1.0</td><td>--</td><td>dd00</td><td>3</td><td>99nn</td><td>0000</td><td>13</td><td>13</td><td>12</td><td>13</td><td>0</td><td>4</td><td>--</td><td>--</td><td>1194807815</td><td>12.551</td><td>0.09</td><td>11.894</td><td>0.07</td><td>11.321</td><td>0.064</td><td>117.789996</td><td>202.900699</td></tr>\n",
       "<tr><td>J053524.97-052300.5</td><td>83.8540649</td><td>-5.3834741</td><td>0.1801</td><td>0.2262</td><td>0.1171</td><td>8.473</td><td>0.1</td><td>10.9</td><td>59.53</td><td>8.067</td><td>0.164</td><td>6.6</td><td>1.333</td><td>--</td><td>--</td><td>--</td><td>--</td><td>--</td><td>--</td><td>--</td><td>--</td><td>1</td><td>0</td><td>0.0</td><td>0.0</td><td>--</td><td>--</td><td>dh0D</td><td>3</td><td>9nnn</td><td>0000</td><td>4</td><td>13</td><td>0</td><td>13</td><td>--</td><td>--</td><td>--</td><td>--</td><td>1194806682</td><td>10.651</td><td>0.022</td><td>9.431</td><td>0.03</td><td>8.757</td><td>0.018</td><td>117.886976</td><td>76.516943</td></tr>\n",
       "</table>"
      ],
      "text/plain": [
       "<Table length=15>\n",
       "    designation         ra        dec     ... k_msig_2mass    dist      angle   \n",
       "                       deg        deg     ...     mag        arcsec      deg    \n",
       "       str19         float64    float64   ...   float64     float64    float64  \n",
       "------------------- ---------- ---------- ... ------------ ---------- ----------\n",
       "J053516.09-052256.4 83.8170429 -5.3823382 ...           --  36.374759 330.243077\n",
       "J053515.80-052249.7 83.8158442 -5.3804979 ...           --  44.260792 329.671301\n",
       "J053523.93-052407.4 83.8497446 -5.4020611 ...           -- 106.701563 111.684804\n",
       "J053519.16-052512.4 83.8298405 -5.4201317 ...           -- 108.116971 165.093157\n",
       "J053515.55-052514.4 83.8148233 -5.4206672 ...        0.033 109.538231 193.734703\n",
       "J053520.29-052508.2 83.8345716 -5.4189516 ...           -- 109.774104 155.931618\n",
       "J053518.52-052517.5 83.8271748 -5.4215396 ...        0.111 111.057959 170.536935\n",
       "J053522.23-052451.9 83.8426547 -5.4144261 ...           -- 111.728109 138.701522\n",
       "J053521.46-052501.5  83.839432  -5.417085 ...           -- 112.301729 146.374617\n",
       "J053523.07-052439.8 83.8461625 -5.4110794 ...           -- 112.329648 129.792248\n",
       "J053523.79-052426.1 83.8491315 -5.4072683 ...           -- 113.065079 120.964108\n",
       "J053516.82-052521.3 83.8200991 -5.4226055 ...        0.091  113.60584 183.582797\n",
       "J053514.81-052517.9 83.8117253 -5.4216475 ...           --  116.02985 198.652808\n",
       "J053514.22-052516.5 83.8092905 -5.4212504 ...        0.064 117.789996 202.900699\n",
       "J053524.97-052300.5 83.8540649 -5.3834741 ...        0.018 117.886976  76.516943"
      ]
     },
     "execution_count": 50,
     "metadata": {},
     "output_type": "execute_result"
    }
   ],
   "source": [
    "ipac"
   ]
  }
 ],
 "metadata": {
  "kernelspec": {
   "display_name": "Python 3",
   "language": "python",
   "name": "python3"
  },
  "language_info": {
   "codemirror_mode": {
    "name": "ipython",
    "version": 3
   },
   "file_extension": ".py",
   "mimetype": "text/x-python",
   "name": "python",
   "nbconvert_exporter": "python",
   "pygments_lexer": "ipython3",
   "version": "3.8.6"
  }
 },
 "nbformat": 4,
 "nbformat_minor": 5
}
